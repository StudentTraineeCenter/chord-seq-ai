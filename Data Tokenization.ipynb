{
 "cells": [
  {
   "cell_type": "markdown",
   "metadata": {},
   "source": [
    "# Data Tokenization"
   ]
  },
  {
   "cell_type": "markdown",
   "metadata": {},
   "source": [
    "## Pitch Class Chord Tokenization"
   ]
  },
  {
   "cell_type": "markdown",
   "metadata": {},
   "source": [
    "Let's represent each chord as a binary vector of 12 elements, with each element representing the presence or absence of that note in the chord without considering octaves. Chords that are mapped to identical vectors will be using the same token."
   ]
  },
  {
   "cell_type": "code",
   "execution_count": 1,
   "metadata": {},
   "outputs": [],
   "source": [
    "import json\n",
    "import numpy as np\n",
    "import pandas as pd\n",
    "import seaborn as sns\n",
    "\n",
    "import chord_parser"
   ]
  },
  {
   "cell_type": "code",
   "execution_count": 2,
   "metadata": {},
   "outputs": [
    {
     "data": {
      "text/html": [
       "<div>\n",
       "<style scoped>\n",
       "    .dataframe tbody tr th:only-of-type {\n",
       "        vertical-align: middle;\n",
       "    }\n",
       "\n",
       "    .dataframe tbody tr th {\n",
       "        vertical-align: top;\n",
       "    }\n",
       "\n",
       "    .dataframe thead th {\n",
       "        text-align: right;\n",
       "    }\n",
       "</style>\n",
       "<table border=\"1\" class=\"dataframe\">\n",
       "  <thead>\n",
       "    <tr style=\"text-align: right;\">\n",
       "      <th></th>\n",
       "      <th>url</th>\n",
       "      <th>title</th>\n",
       "      <th>artist</th>\n",
       "      <th>decade</th>\n",
       "      <th>genre</th>\n",
       "      <th>ratings</th>\n",
       "      <th>stars</th>\n",
       "      <th>chords</th>\n",
       "    </tr>\n",
       "  </thead>\n",
       "  <tbody>\n",
       "    <tr>\n",
       "      <th>0</th>\n",
       "      <td>https://tabs.ultimate-guitar.com/tab/jeff-buck...</td>\n",
       "      <td>Hallelujah</td>\n",
       "      <td>Jeff Buckley</td>\n",
       "      <td>1990</td>\n",
       "      <td>Rock|Folk</td>\n",
       "      <td>51639.0</td>\n",
       "      <td>5.0</td>\n",
       "      <td>C Am C Am C Am C Am F G C G C F G Am F G E7 Am...</td>\n",
       "    </tr>\n",
       "    <tr>\n",
       "      <th>1</th>\n",
       "      <td>https://tabs.ultimate-guitar.com/tab/ed-sheera...</td>\n",
       "      <td>Perfect</td>\n",
       "      <td>Ed Sheeran</td>\n",
       "      <td>2010</td>\n",
       "      <td>Pop</td>\n",
       "      <td>44194.0</td>\n",
       "      <td>5.0</td>\n",
       "      <td>G Em C D G Em C D G Em C G D G Em C D Em C G D...</td>\n",
       "    </tr>\n",
       "    <tr>\n",
       "      <th>2</th>\n",
       "      <td>https://tabs.ultimate-guitar.com/tab/elvis-pre...</td>\n",
       "      <td>Cant Help Falling In Love</td>\n",
       "      <td>Elvis Presley</td>\n",
       "      <td>1960</td>\n",
       "      <td>Soundtrack|R&amp;B, Funk &amp; Soul</td>\n",
       "      <td>30059.0</td>\n",
       "      <td>5.0</td>\n",
       "      <td>C G Am F C G C Em Am F C G F G Am F C G C Em A...</td>\n",
       "    </tr>\n",
       "    <tr>\n",
       "      <th>3</th>\n",
       "      <td>https://tabs.ultimate-guitar.com/tab/eagles/ho...</td>\n",
       "      <td>Hotel California</td>\n",
       "      <td>Eagles</td>\n",
       "      <td>1970</td>\n",
       "      <td>Rock</td>\n",
       "      <td>28670.0</td>\n",
       "      <td>5.0</td>\n",
       "      <td>Bm F#7 A E G D Em F#7 Bm F#7 A E G D Em F#7 Bm...</td>\n",
       "    </tr>\n",
       "    <tr>\n",
       "      <th>4</th>\n",
       "      <td>https://tabs.ultimate-guitar.com/tab/radiohead...</td>\n",
       "      <td>Creep</td>\n",
       "      <td>Radiohead</td>\n",
       "      <td>1990</td>\n",
       "      <td>Rock</td>\n",
       "      <td>28606.0</td>\n",
       "      <td>5.0</td>\n",
       "      <td>G B C Cm G B C Cm G B C Cm G B C Cm G B C Cm G...</td>\n",
       "    </tr>\n",
       "  </tbody>\n",
       "</table>\n",
       "</div>"
      ],
      "text/plain": [
       "                                                 url  \\\n",
       "0  https://tabs.ultimate-guitar.com/tab/jeff-buck...   \n",
       "1  https://tabs.ultimate-guitar.com/tab/ed-sheera...   \n",
       "2  https://tabs.ultimate-guitar.com/tab/elvis-pre...   \n",
       "3  https://tabs.ultimate-guitar.com/tab/eagles/ho...   \n",
       "4  https://tabs.ultimate-guitar.com/tab/radiohead...   \n",
       "\n",
       "                       title         artist  decade  \\\n",
       "0                 Hallelujah   Jeff Buckley    1990   \n",
       "1                    Perfect     Ed Sheeran    2010   \n",
       "2  Cant Help Falling In Love  Elvis Presley    1960   \n",
       "3           Hotel California         Eagles    1970   \n",
       "4                      Creep      Radiohead    1990   \n",
       "\n",
       "                         genre  ratings  stars  \\\n",
       "0                    Rock|Folk  51639.0    5.0   \n",
       "1                          Pop  44194.0    5.0   \n",
       "2  Soundtrack|R&B, Funk & Soul  30059.0    5.0   \n",
       "3                         Rock  28670.0    5.0   \n",
       "4                         Rock  28606.0    5.0   \n",
       "\n",
       "                                              chords  \n",
       "0  C Am C Am C Am C Am F G C G C F G Am F G E7 Am...  \n",
       "1  G Em C D G Em C D G Em C G D G Em C D Em C G D...  \n",
       "2  C G Am F C G C Em Am F C G F G Am F C G C Em A...  \n",
       "3  Bm F#7 A E G D Em F#7 Bm F#7 A E G D Em F#7 Bm...  \n",
       "4  G B C Cm G B C Cm G B C Cm G B C Cm G B C Cm G...  "
      ]
     },
     "execution_count": 2,
     "metadata": {},
     "output_type": "execute_result"
    }
   ],
   "source": [
    "with open(\"Data/chord_map.json\", \"r\") as fp:\n",
    "    chord_map = json.load(fp) # Contains all chords and their corresponding notes, extracted during EDA\n",
    "    \n",
    "data = pd.read_csv('Data/data_cleaned.csv')\n",
    "data.head()"
   ]
  },
  {
   "cell_type": "code",
   "execution_count": 3,
   "metadata": {},
   "outputs": [],
   "source": [
    "parser = chord_parser.Main()"
   ]
  },
  {
   "cell_type": "markdown",
   "metadata": {},
   "source": [
    "We want to represent the chords as vectors and store them as keys to a dictionary, so we will convert them to strings with ones and zeros. Let's also apply the transpositions to make the future model adaptable to all variants."
   ]
  },
  {
   "cell_type": "code",
   "execution_count": 4,
   "metadata": {},
   "outputs": [],
   "source": [
    "# This method will be used for transposition\n",
    "def roll_string(s, shift):\n",
    "    return s[-shift:] + s[:-shift]\n",
    "\n",
    "# Initialization\n",
    "all_chord_reps = set() # Contains all the possible chord representations\n",
    "chord_to_notes, notes_to_chord = {}, {}\n",
    "all_notes = [\"C\", \"C#\", \"D\", \"D#\", \"E\", \"F\", \"F#\", \"G\", \"G#\", \"A\", \"A#\", \"B\"]\n",
    "    \n",
    "for chord, chord_notes in chord_map.items():\n",
    "    # Get the normalized chord notes (ignoring octave and the root note)\n",
    "    chord_notes = np.array(chord_notes)\n",
    "    chord_notes = np.sort((chord_notes - chord_notes.min()) % 12)\n",
    "\n",
    "    # Create a one-hot representation of the chord\n",
    "    hot_notes = np.zeros(12)\n",
    "    hot_notes[chord_notes] = 1\n",
    "    \n",
    "    # Convert the one-hot representation to a string\n",
    "    str_notes = \"\".join([str(int(i)) for i in hot_notes])\n",
    "\n",
    "    # Parse the chord extension\n",
    "    root, ext = parser.get_root_and_ext(chord)\n",
    "    ext = parser.update_if_slash(root, ext)\n",
    "\n",
    "    # For the extension, we need to get all the possible transpositions\n",
    "    for i in range(12):\n",
    "        # Transpose the notes\n",
    "        transposed_str_notes = roll_string(str_notes, i)\n",
    "        \n",
    "        # Add the new chord to the set\n",
    "        all_chord_reps.add(transposed_str_notes)\n",
    "        chord_to_notes[all_notes[i] + ext] = transposed_str_notes\n",
    "        notes_to_chord[transposed_str_notes] = all_notes[i] + ext\n",
    "\n",
    "# Sort the chord representations for consistency\n",
    "all_chord_reps = sorted(list(all_chord_reps))\n",
    "rep_to_token = {ext: i for i, ext in enumerate(all_chord_reps)}\n",
    "\n",
    "# The inverse should contain the most simple chord representation\n",
    "for chord, notes in chord_to_notes.items():\n",
    "    if len(notes_to_chord[notes]) > len(chord):\n",
    "        if \"/I\" != chord[-2:]: # Fixes a bug with the slash chords\n",
    "            notes_to_chord[notes] = chord\n",
    "\n",
    "token_to_chord = [notes_to_chord[rep] for rep in all_chord_reps]"
   ]
  },
  {
   "cell_type": "code",
   "execution_count": 5,
   "metadata": {},
   "outputs": [
    {
     "name": "stdout",
     "output_type": "stream",
     "text": [
      "There are a total of 973 unique chord representations.\n"
     ]
    }
   ],
   "source": [
    "print(f\"There are a total of {len(all_chord_reps)} unique chord representations.\")"
   ]
  },
  {
   "cell_type": "markdown",
   "metadata": {},
   "source": [
    "During the training of the model, we would also like to use augmentation, so we will create a map that will return all possible transpositions for each token."
   ]
  },
  {
   "cell_type": "code",
   "execution_count": 6,
   "metadata": {},
   "outputs": [],
   "source": [
    "# Create the augmentation map\n",
    "augmentation_map = []\n",
    "for i, rep in enumerate(all_chord_reps):\n",
    "    orig = rep_to_token[roll_string(rep, 0)]\n",
    "    augmentations = []\n",
    "    for j in range(0, 12):\n",
    "        augmentations.append(rep_to_token[roll_string(rep, j)])\n",
    "    augmentation_map.append(np.array(augmentations))\n",
    "\n",
    "augmentation_map = np.array(augmentation_map)"
   ]
  },
  {
   "cell_type": "markdown",
   "metadata": {},
   "source": [
    "While parsing the data, we will need to account for the variants of the notes, such as Db instead of C# or E# instead of F. Therefore, we will create a note map to convert them to the sharp variant. We will use the music21 library for easier map creation."
   ]
  },
  {
   "cell_type": "code",
   "execution_count": 7,
   "metadata": {},
   "outputs": [],
   "source": [
    "import music21 as m21\n",
    "\n",
    "mods = [\"--\", \"-\", \"\", \"#\", \"##\"]\n",
    "note_names = [\"C\", \"D\", \"E\", \"F\", \"G\", \"A\", \"B\"]\n",
    "note_map = {}\n",
    "for note in note_names:\n",
    "    for mod in mods:\n",
    "        p = m21.pitch.Pitch(note + mod)\n",
    "        enharmonics = p.getAllCommonEnharmonics()\n",
    "        enharmonics.append(p)\n",
    "        for enh in enharmonics:\n",
    "            enh = str(enh)\n",
    "            if enh in all_notes:\n",
    "                note_map[note + mod] = enh\n",
    "\n",
    "# Does not also add C-- and F--\n",
    "note_map[\"C--\"] = \"A#\"\n",
    "note_map[\"F--\"] = \"D#\""
   ]
  },
  {
   "cell_type": "code",
   "execution_count": 8,
   "metadata": {},
   "outputs": [],
   "source": [
    "# Works on all chords from the dataset\n",
    "def get_chord_token(chord):\n",
    "    root, ext = parser.get_root_and_ext(chord)\n",
    "    ext = parser.update_if_slash(root, ext)\n",
    "    return rep_to_token[chord_to_notes[note_map[root] + ext]]"
   ]
  },
  {
   "cell_type": "code",
   "execution_count": 9,
   "metadata": {},
   "outputs": [],
   "source": [
    "# Save rep_to_token and token_to_chord, as well as the augmentation map\n",
    "with open('Data/rep_to_token.json', 'w') as fp:\n",
    "    json.dump(rep_to_token, fp)\n",
    "with open('Data/token_to_chord.json', 'w') as fp:\n",
    "    json.dump(token_to_chord, fp)\n",
    "np.save(\"Data/augmentation_map.npy\", augmentation_map)"
   ]
  },
  {
   "cell_type": "markdown",
   "metadata": {},
   "source": [
    "Let's tokenize the data."
   ]
  },
  {
   "cell_type": "code",
   "execution_count": 10,
   "metadata": {},
   "outputs": [],
   "source": [
    "def tokenize_chords(chords):\n",
    "    chords = [get_chord_token(ch) for ch in chords.strip().split(\" \")]\n",
    "    return np.array(chords, dtype=np.int32)\n",
    "\n",
    "# Takes a while to run\n",
    "data[\"chords_rep\"] = data[\"chords\"].apply(tokenize_chords)"
   ]
  },
  {
   "cell_type": "code",
   "execution_count": 11,
   "metadata": {},
   "outputs": [
    {
     "data": {
      "text/html": [
       "<div>\n",
       "<style scoped>\n",
       "    .dataframe tbody tr th:only-of-type {\n",
       "        vertical-align: middle;\n",
       "    }\n",
       "\n",
       "    .dataframe tbody tr th {\n",
       "        vertical-align: top;\n",
       "    }\n",
       "\n",
       "    .dataframe thead th {\n",
       "        text-align: right;\n",
       "    }\n",
       "</style>\n",
       "<table border=\"1\" class=\"dataframe\">\n",
       "  <thead>\n",
       "    <tr style=\"text-align: right;\">\n",
       "      <th></th>\n",
       "      <th>url</th>\n",
       "      <th>title</th>\n",
       "      <th>artist</th>\n",
       "      <th>decade</th>\n",
       "      <th>genre</th>\n",
       "      <th>ratings</th>\n",
       "      <th>stars</th>\n",
       "      <th>chords</th>\n",
       "      <th>chords_rep</th>\n",
       "    </tr>\n",
       "  </thead>\n",
       "  <tbody>\n",
       "    <tr>\n",
       "      <th>0</th>\n",
       "      <td>https://tabs.ultimate-guitar.com/tab/jeff-buck...</td>\n",
       "      <td>Hallelujah</td>\n",
       "      <td>Jeff Buckley</td>\n",
       "      <td>1990</td>\n",
       "      <td>Rock|Folk</td>\n",
       "      <td>51639.0</td>\n",
       "      <td>5.0</td>\n",
       "      <td>C Am C Am C Am C Am F G C G C F G Am F G E7 Am...</td>\n",
       "      <td>[648, 640, 648, 640, 648, 640, 648, 640, 617, ...</td>\n",
       "    </tr>\n",
       "    <tr>\n",
       "      <th>1</th>\n",
       "      <td>https://tabs.ultimate-guitar.com/tab/ed-sheera...</td>\n",
       "      <td>Perfect</td>\n",
       "      <td>Ed Sheeran</td>\n",
       "      <td>2010</td>\n",
       "      <td>Pop</td>\n",
       "      <td>44194.0</td>\n",
       "      <td>5.0</td>\n",
       "      <td>G Em C D G Em C D G Em C G D G Em C D Em C G D...</td>\n",
       "      <td>[155, 31, 648, 169, 155, 31, 648, 169, 155, 31...</td>\n",
       "    </tr>\n",
       "    <tr>\n",
       "      <th>2</th>\n",
       "      <td>https://tabs.ultimate-guitar.com/tab/elvis-pre...</td>\n",
       "      <td>Cant Help Falling In Love</td>\n",
       "      <td>Elvis Presley</td>\n",
       "      <td>1960</td>\n",
       "      <td>Soundtrack|R&amp;B, Funk &amp; Soul</td>\n",
       "      <td>30059.0</td>\n",
       "      <td>5.0</td>\n",
       "      <td>C G Am F C G C Em Am F C G F G Am F C G C Em A...</td>\n",
       "      <td>[648, 155, 640, 617, 648, 155, 648, 31, 640, 6...</td>\n",
       "    </tr>\n",
       "    <tr>\n",
       "      <th>3</th>\n",
       "      <td>https://tabs.ultimate-guitar.com/tab/eagles/ho...</td>\n",
       "      <td>Hotel California</td>\n",
       "      <td>Eagles</td>\n",
       "      <td>1970</td>\n",
       "      <td>Rock</td>\n",
       "      <td>28670.0</td>\n",
       "      <td>5.0</td>\n",
       "      <td>Bm F#7 A E G D Em F#7 Bm F#7 A E G D Em F#7 Bm...</td>\n",
       "      <td>[166, 403, 380, 26, 155, 169, 31, 403, 166, 40...</td>\n",
       "    </tr>\n",
       "    <tr>\n",
       "      <th>4</th>\n",
       "      <td>https://tabs.ultimate-guitar.com/tab/radiohead...</td>\n",
       "      <td>Creep</td>\n",
       "      <td>Radiohead</td>\n",
       "      <td>1990</td>\n",
       "      <td>Rock</td>\n",
       "      <td>28606.0</td>\n",
       "      <td>5.0</td>\n",
       "      <td>G B C Cm G B C Cm G B C Cm G B C Cm G B C Cm G...</td>\n",
       "      <td>[155, 78, 648, 699, 155, 78, 648, 699, 155, 78...</td>\n",
       "    </tr>\n",
       "  </tbody>\n",
       "</table>\n",
       "</div>"
      ],
      "text/plain": [
       "                                                 url  \\\n",
       "0  https://tabs.ultimate-guitar.com/tab/jeff-buck...   \n",
       "1  https://tabs.ultimate-guitar.com/tab/ed-sheera...   \n",
       "2  https://tabs.ultimate-guitar.com/tab/elvis-pre...   \n",
       "3  https://tabs.ultimate-guitar.com/tab/eagles/ho...   \n",
       "4  https://tabs.ultimate-guitar.com/tab/radiohead...   \n",
       "\n",
       "                       title         artist  decade  \\\n",
       "0                 Hallelujah   Jeff Buckley    1990   \n",
       "1                    Perfect     Ed Sheeran    2010   \n",
       "2  Cant Help Falling In Love  Elvis Presley    1960   \n",
       "3           Hotel California         Eagles    1970   \n",
       "4                      Creep      Radiohead    1990   \n",
       "\n",
       "                         genre  ratings  stars  \\\n",
       "0                    Rock|Folk  51639.0    5.0   \n",
       "1                          Pop  44194.0    5.0   \n",
       "2  Soundtrack|R&B, Funk & Soul  30059.0    5.0   \n",
       "3                         Rock  28670.0    5.0   \n",
       "4                         Rock  28606.0    5.0   \n",
       "\n",
       "                                              chords  \\\n",
       "0  C Am C Am C Am C Am F G C G C F G Am F G E7 Am...   \n",
       "1  G Em C D G Em C D G Em C G D G Em C D Em C G D...   \n",
       "2  C G Am F C G C Em Am F C G F G Am F C G C Em A...   \n",
       "3  Bm F#7 A E G D Em F#7 Bm F#7 A E G D Em F#7 Bm...   \n",
       "4  G B C Cm G B C Cm G B C Cm G B C Cm G B C Cm G...   \n",
       "\n",
       "                                          chords_rep  \n",
       "0  [648, 640, 648, 640, 648, 640, 648, 640, 617, ...  \n",
       "1  [155, 31, 648, 169, 155, 31, 648, 169, 155, 31...  \n",
       "2  [648, 155, 640, 617, 648, 155, 648, 31, 640, 6...  \n",
       "3  [166, 403, 380, 26, 155, 169, 31, 403, 166, 40...  \n",
       "4  [155, 78, 648, 699, 155, 78, 648, 699, 155, 78...  "
      ]
     },
     "execution_count": 11,
     "metadata": {},
     "output_type": "execute_result"
    }
   ],
   "source": [
    "data.head()"
   ]
  },
  {
   "cell_type": "code",
   "execution_count": 12,
   "metadata": {},
   "outputs": [
    {
     "data": {
      "text/plain": [
       "<AxesSubplot:xlabel='chords_rep', ylabel='Count'>"
      ]
     },
     "execution_count": 12,
     "metadata": {},
     "output_type": "execute_result"
    },
    {
     "data": {
      "image/png": "[encoded data removed]",
      "text/plain": [
       "<Figure size 640x480 with 1 Axes>"
      ]
     },
     "metadata": {
      "image/png": {
       "height": 433,
       "width": 580
      }
     },
     "output_type": "display_data"
    }
   ],
   "source": [
    "# Plot the distribution of the lengths of the chord sequences\n",
    "sns.histplot(data[\"chords_rep\"].apply(len), bins=100)"
   ]
  },
  {
   "cell_type": "markdown",
   "metadata": {},
   "source": [
    "For efficiency during training, our models will accept padded sequences of a fixed length. Therefore, we will have to set margins on the allowed length of chord sequences. From the plot above, we can see that picking 256 as the fixed length covers most sequences. Since we will also encode the start and end of sequence tokens, the actual threshold will be 254. We will exclude sequences longer than this threshold, as well as one-chord sequences (as they do not provide meaningful information to the model)."
   ]
  },
  {
   "cell_type": "code",
   "execution_count": 13,
   "metadata": {},
   "outputs": [],
   "source": [
    "# Drop the extremes\n",
    "data = data[data[\"chords_rep\"].apply(len) > 1]\n",
    "data = data[data[\"chords_rep\"].apply(len) < 255]"
   ]
  },
  {
   "cell_type": "code",
   "execution_count": 14,
   "metadata": {},
   "outputs": [],
   "source": [
    "# Save the tokenized data\n",
    "tokenized_data = data.copy()\n",
    "tokenized_data = tokenized_data.drop(columns=[\"chords\"])\n",
    "tokenized_data = tokenized_data.rename(columns={\"chords_rep\": \"chords\"})\n",
    "tokenized_data[\"chords\"] = tokenized_data[\"chords\"].apply(lambda x: json.dumps(x.tolist()))\n",
    "tokenized_data.to_csv(\"Data/data_tokenized_pitch_class.csv\", index=False)"
   ]
  },
  {
   "cell_type": "markdown",
   "metadata": {},
   "source": [
    "## Unique Extension Tokenization"
   ]
  },
  {
   "cell_type": "markdown",
   "metadata": {},
   "source": [
    "With this tokenization, we will assign a different token for each chord in the data (C/A will be different from C6, E# will be different from F). This tokenization will be useful for a machine translation model from the pitch class representation. Since transposing the chords would remove their desired modifications (sharps and flats would be ambiguous), only the original variant will be used.\n",
    "\n",
    "It should be noted that with this method, the model will (after deployment) encounter chords that it has never seen (some variants, especially those including double sharps and double flats, are simply not present in this dataset). A blank chord token will be reserved for such cases."
   ]
  },
  {
   "cell_type": "code",
   "execution_count": 15,
   "metadata": {},
   "outputs": [
    {
     "data": {
      "text/html": [
       "<div>\n",
       "<style scoped>\n",
       "    .dataframe tbody tr th:only-of-type {\n",
       "        vertical-align: middle;\n",
       "    }\n",
       "\n",
       "    .dataframe tbody tr th {\n",
       "        vertical-align: top;\n",
       "    }\n",
       "\n",
       "    .dataframe thead th {\n",
       "        text-align: right;\n",
       "    }\n",
       "</style>\n",
       "<table border=\"1\" class=\"dataframe\">\n",
       "  <thead>\n",
       "    <tr style=\"text-align: right;\">\n",
       "      <th></th>\n",
       "      <th>url</th>\n",
       "      <th>title</th>\n",
       "      <th>artist</th>\n",
       "      <th>decade</th>\n",
       "      <th>genre</th>\n",
       "      <th>ratings</th>\n",
       "      <th>stars</th>\n",
       "      <th>chords</th>\n",
       "    </tr>\n",
       "  </thead>\n",
       "  <tbody>\n",
       "    <tr>\n",
       "      <th>0</th>\n",
       "      <td>https://tabs.ultimate-guitar.com/tab/jeff-buck...</td>\n",
       "      <td>Hallelujah</td>\n",
       "      <td>Jeff Buckley</td>\n",
       "      <td>1990</td>\n",
       "      <td>Rock|Folk</td>\n",
       "      <td>51639.0</td>\n",
       "      <td>5.0</td>\n",
       "      <td>C Am C Am C Am C Am F G C G C F G Am F G E7 Am...</td>\n",
       "    </tr>\n",
       "    <tr>\n",
       "      <th>1</th>\n",
       "      <td>https://tabs.ultimate-guitar.com/tab/ed-sheera...</td>\n",
       "      <td>Perfect</td>\n",
       "      <td>Ed Sheeran</td>\n",
       "      <td>2010</td>\n",
       "      <td>Pop</td>\n",
       "      <td>44194.0</td>\n",
       "      <td>5.0</td>\n",
       "      <td>G Em C D G Em C D G Em C G D G Em C D Em C G D...</td>\n",
       "    </tr>\n",
       "    <tr>\n",
       "      <th>2</th>\n",
       "      <td>https://tabs.ultimate-guitar.com/tab/elvis-pre...</td>\n",
       "      <td>Cant Help Falling In Love</td>\n",
       "      <td>Elvis Presley</td>\n",
       "      <td>1960</td>\n",
       "      <td>Soundtrack|R&amp;B, Funk &amp; Soul</td>\n",
       "      <td>30059.0</td>\n",
       "      <td>5.0</td>\n",
       "      <td>C G Am F C G C Em Am F C G F G Am F C G C Em A...</td>\n",
       "    </tr>\n",
       "    <tr>\n",
       "      <th>3</th>\n",
       "      <td>https://tabs.ultimate-guitar.com/tab/eagles/ho...</td>\n",
       "      <td>Hotel California</td>\n",
       "      <td>Eagles</td>\n",
       "      <td>1970</td>\n",
       "      <td>Rock</td>\n",
       "      <td>28670.0</td>\n",
       "      <td>5.0</td>\n",
       "      <td>Bm F#7 A E G D Em F#7 Bm F#7 A E G D Em F#7 Bm...</td>\n",
       "    </tr>\n",
       "    <tr>\n",
       "      <th>4</th>\n",
       "      <td>https://tabs.ultimate-guitar.com/tab/radiohead...</td>\n",
       "      <td>Creep</td>\n",
       "      <td>Radiohead</td>\n",
       "      <td>1990</td>\n",
       "      <td>Rock</td>\n",
       "      <td>28606.0</td>\n",
       "      <td>5.0</td>\n",
       "      <td>G B C Cm G B C Cm G B C Cm G B C Cm G B C Cm G...</td>\n",
       "    </tr>\n",
       "  </tbody>\n",
       "</table>\n",
       "</div>"
      ],
      "text/plain": [
       "                                                 url  \\\n",
       "0  https://tabs.ultimate-guitar.com/tab/jeff-buck...   \n",
       "1  https://tabs.ultimate-guitar.com/tab/ed-sheera...   \n",
       "2  https://tabs.ultimate-guitar.com/tab/elvis-pre...   \n",
       "3  https://tabs.ultimate-guitar.com/tab/eagles/ho...   \n",
       "4  https://tabs.ultimate-guitar.com/tab/radiohead...   \n",
       "\n",
       "                       title         artist  decade  \\\n",
       "0                 Hallelujah   Jeff Buckley    1990   \n",
       "1                    Perfect     Ed Sheeran    2010   \n",
       "2  Cant Help Falling In Love  Elvis Presley    1960   \n",
       "3           Hotel California         Eagles    1970   \n",
       "4                      Creep      Radiohead    1990   \n",
       "\n",
       "                         genre  ratings  stars  \\\n",
       "0                    Rock|Folk  51639.0    5.0   \n",
       "1                          Pop  44194.0    5.0   \n",
       "2  Soundtrack|R&B, Funk & Soul  30059.0    5.0   \n",
       "3                         Rock  28670.0    5.0   \n",
       "4                         Rock  28606.0    5.0   \n",
       "\n",
       "                                              chords  \n",
       "0  C Am C Am C Am C Am F G C G C F G Am F G E7 Am...  \n",
       "1  G Em C D G Em C D G Em C G D G Em C D Em C G D...  \n",
       "2  C G Am F C G C Em Am F C G F G Am F C G C Em A...  \n",
       "3  Bm F#7 A E G D Em F#7 Bm F#7 A E G D Em F#7 Bm...  \n",
       "4  G B C Cm G B C Cm G B C Cm G B C Cm G B C Cm G...  "
      ]
     },
     "execution_count": 15,
     "metadata": {},
     "output_type": "execute_result"
    }
   ],
   "source": [
    "# Load the data again, this time with already dropped extremes\n",
    "data = data.drop(columns=[\"chords_rep\"])\n",
    "data.head()"
   ]
  },
  {
   "cell_type": "code",
   "execution_count": 16,
   "metadata": {},
   "outputs": [],
   "source": [
    "# Get all the unique chords and their corresponding tokens\n",
    "all_chords = set()\n",
    "\n",
    "for chords in data[\"chords\"]:\n",
    "    for chord in chords.strip().split(\" \"):\n",
    "        all_chords.add(chord)\n",
    "        \n",
    "# Sort the chords for consistency\n",
    "all_chords = sorted(list(all_chords))\n",
    "chord_to_unique_token = {chord: i for i, chord in enumerate(all_chords)}"
   ]
  },
  {
   "cell_type": "code",
   "execution_count": 17,
   "metadata": {},
   "outputs": [
    {
     "name": "stdout",
     "output_type": "stream",
     "text": [
      "There are a total of 1871 unique chords.\n"
     ]
    }
   ],
   "source": [
    "print(f\"There are a total of {len(all_chords)} unique chords.\")"
   ]
  },
  {
   "cell_type": "code",
   "execution_count": 18,
   "metadata": {},
   "outputs": [],
   "source": [
    "def tokenize_chords(chords):\n",
    "    chords = [chord_to_unique_token[ch] for ch in chords.strip().split(\" \")]\n",
    "    return np.array(chords, dtype=np.int32)\n",
    "\n",
    "data[\"chords_rep\"] = data[\"chords\"].apply(tokenize_chords)"
   ]
  },
  {
   "cell_type": "code",
   "execution_count": 19,
   "metadata": {},
   "outputs": [
    {
     "data": {
      "text/html": [
       "<div>\n",
       "<style scoped>\n",
       "    .dataframe tbody tr th:only-of-type {\n",
       "        vertical-align: middle;\n",
       "    }\n",
       "\n",
       "    .dataframe tbody tr th {\n",
       "        vertical-align: top;\n",
       "    }\n",
       "\n",
       "    .dataframe thead th {\n",
       "        text-align: right;\n",
       "    }\n",
       "</style>\n",
       "<table border=\"1\" class=\"dataframe\">\n",
       "  <thead>\n",
       "    <tr style=\"text-align: right;\">\n",
       "      <th></th>\n",
       "      <th>url</th>\n",
       "      <th>title</th>\n",
       "      <th>artist</th>\n",
       "      <th>decade</th>\n",
       "      <th>genre</th>\n",
       "      <th>ratings</th>\n",
       "      <th>stars</th>\n",
       "      <th>chords</th>\n",
       "      <th>chords_rep</th>\n",
       "    </tr>\n",
       "  </thead>\n",
       "  <tbody>\n",
       "    <tr>\n",
       "      <th>0</th>\n",
       "      <td>https://tabs.ultimate-guitar.com/tab/jeff-buck...</td>\n",
       "      <td>Hallelujah</td>\n",
       "      <td>Jeff Buckley</td>\n",
       "      <td>1990</td>\n",
       "      <td>Rock|Folk</td>\n",
       "      <td>51639.0</td>\n",
       "      <td>5.0</td>\n",
       "      <td>C Am C Am C Am C Am F G C G C F G Am F G E7 Am...</td>\n",
       "      <td>[526, 216, 526, 216, 526, 216, 526, 216, 1319,...</td>\n",
       "    </tr>\n",
       "    <tr>\n",
       "      <th>1</th>\n",
       "      <td>https://tabs.ultimate-guitar.com/tab/ed-sheera...</td>\n",
       "      <td>Perfect</td>\n",
       "      <td>Ed Sheeran</td>\n",
       "      <td>2010</td>\n",
       "      <td>Pop</td>\n",
       "      <td>44194.0</td>\n",
       "      <td>5.0</td>\n",
       "      <td>G Em C D G Em C D G Em C G D G Em C D Em C G D...</td>\n",
       "      <td>[1581, 1248, 526, 769, 1581, 1248, 526, 769, 1...</td>\n",
       "    </tr>\n",
       "    <tr>\n",
       "      <th>2</th>\n",
       "      <td>https://tabs.ultimate-guitar.com/tab/elvis-pre...</td>\n",
       "      <td>Cant Help Falling In Love</td>\n",
       "      <td>Elvis Presley</td>\n",
       "      <td>1960</td>\n",
       "      <td>Soundtrack|R&amp;B, Funk &amp; Soul</td>\n",
       "      <td>30059.0</td>\n",
       "      <td>5.0</td>\n",
       "      <td>C G Am F C G C Em Am F C G F G Am F C G C Em A...</td>\n",
       "      <td>[526, 1581, 216, 1319, 526, 1581, 526, 1248, 2...</td>\n",
       "    </tr>\n",
       "    <tr>\n",
       "      <th>3</th>\n",
       "      <td>https://tabs.ultimate-guitar.com/tab/eagles/ho...</td>\n",
       "      <td>Hotel California</td>\n",
       "      <td>Eagles</td>\n",
       "      <td>1970</td>\n",
       "      <td>Rock</td>\n",
       "      <td>28670.0</td>\n",
       "      <td>5.0</td>\n",
       "      <td>Bm F#7 A E G D Em F#7 Bm F#7 A E G D Em F#7 Bm...</td>\n",
       "      <td>[476, 1345, 0, 1066, 1581, 769, 1248, 1345, 47...</td>\n",
       "    </tr>\n",
       "    <tr>\n",
       "      <th>4</th>\n",
       "      <td>https://tabs.ultimate-guitar.com/tab/radiohead...</td>\n",
       "      <td>Creep</td>\n",
       "      <td>Radiohead</td>\n",
       "      <td>1990</td>\n",
       "      <td>Rock</td>\n",
       "      <td>28606.0</td>\n",
       "      <td>5.0</td>\n",
       "      <td>G B C Cm G B C Cm G B C Cm G B C Cm G B C Cm G...</td>\n",
       "      <td>[1581, 285, 526, 708, 1581, 285, 526, 708, 158...</td>\n",
       "    </tr>\n",
       "  </tbody>\n",
       "</table>\n",
       "</div>"
      ],
      "text/plain": [
       "                                                 url  \\\n",
       "0  https://tabs.ultimate-guitar.com/tab/jeff-buck...   \n",
       "1  https://tabs.ultimate-guitar.com/tab/ed-sheera...   \n",
       "2  https://tabs.ultimate-guitar.com/tab/elvis-pre...   \n",
       "3  https://tabs.ultimate-guitar.com/tab/eagles/ho...   \n",
       "4  https://tabs.ultimate-guitar.com/tab/radiohead...   \n",
       "\n",
       "                       title         artist  decade  \\\n",
       "0                 Hallelujah   Jeff Buckley    1990   \n",
       "1                    Perfect     Ed Sheeran    2010   \n",
       "2  Cant Help Falling In Love  Elvis Presley    1960   \n",
       "3           Hotel California         Eagles    1970   \n",
       "4                      Creep      Radiohead    1990   \n",
       "\n",
       "                         genre  ratings  stars  \\\n",
       "0                    Rock|Folk  51639.0    5.0   \n",
       "1                          Pop  44194.0    5.0   \n",
       "2  Soundtrack|R&B, Funk & Soul  30059.0    5.0   \n",
       "3                         Rock  28670.0    5.0   \n",
       "4                         Rock  28606.0    5.0   \n",
       "\n",
       "                                              chords  \\\n",
       "0  C Am C Am C Am C Am F G C G C F G Am F G E7 Am...   \n",
       "1  G Em C D G Em C D G Em C G D G Em C D Em C G D...   \n",
       "2  C G Am F C G C Em Am F C G F G Am F C G C Em A...   \n",
       "3  Bm F#7 A E G D Em F#7 Bm F#7 A E G D Em F#7 Bm...   \n",
       "4  G B C Cm G B C Cm G B C Cm G B C Cm G B C Cm G...   \n",
       "\n",
       "                                          chords_rep  \n",
       "0  [526, 216, 526, 216, 526, 216, 526, 216, 1319,...  \n",
       "1  [1581, 1248, 526, 769, 1581, 1248, 526, 769, 1...  \n",
       "2  [526, 1581, 216, 1319, 526, 1581, 526, 1248, 2...  \n",
       "3  [476, 1345, 0, 1066, 1581, 769, 1248, 1345, 47...  \n",
       "4  [1581, 285, 526, 708, 1581, 285, 526, 708, 158...  "
      ]
     },
     "execution_count": 19,
     "metadata": {},
     "output_type": "execute_result"
    }
   ],
   "source": [
    "data.head()"
   ]
  },
  {
   "cell_type": "code",
   "execution_count": 20,
   "metadata": {},
   "outputs": [],
   "source": [
    "# Save the tokenized data\n",
    "data = data.drop(columns=[\"chords\"])\n",
    "data = data.rename(columns={\"chords_rep\": \"chords\"})\n",
    "data[\"chords\"] = data[\"chords\"].apply(lambda x: json.dumps(x.tolist()))\n",
    "data.to_csv(\"Data/data_tokenized_unique.csv\", index=False)"
   ]
  },
  {
   "cell_type": "code",
   "execution_count": 21,
   "metadata": {},
   "outputs": [],
   "source": [
    "# Save the chord to unique token map\n",
    "with open(\"Data/chord_to_unique_token.json\", \"w\") as parser:\n",
    "    json.dump(chord_to_unique_token, parser)"
   ]
  }
 ],
 "metadata": {
  "kernelspec": {
   "display_name": "base",
   "language": "python",
   "name": "python3"
  },
  "language_info": {
   "codemirror_mode": {
    "name": "ipython",
    "version": 3
   },
   "file_extension": ".py",
   "mimetype": "text/x-python",
   "name": "python",
   "nbconvert_exporter": "python",
   "pygments_lexer": "ipython3",
   "version": "3.9.16"
  }
 },
 "nbformat": 4,
 "nbformat_minor": 2
}
