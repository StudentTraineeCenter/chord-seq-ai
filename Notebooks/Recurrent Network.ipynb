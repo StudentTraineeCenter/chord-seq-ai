{
 "cells": [
  {
   "cell_type": "markdown",
   "id": "ff23d7cd",
   "metadata": {
    "papermill": {
     "duration": 0.009222,
     "end_time": "2023-10-22T09:37:01.223704",
     "exception": false,
     "start_time": "2023-10-22T09:37:01.214482",
     "status": "completed"
    },
    "tags": []
   },
   "source": [
    "# Predicting Next Chords Using a Recurrent Network"
   ]
  },
  {
   "cell_type": "code",
   "execution_count": 1,
   "id": "21d12eec",
   "metadata": {
    "execution": {
     "iopub.execute_input": "2023-10-22T09:37:18.267440Z",
     "iopub.status.busy": "2023-10-22T09:37:18.267107Z",
     "iopub.status.idle": "2023-10-22T09:37:23.967360Z",
     "shell.execute_reply": "2023-10-22T09:37:23.966466Z"
    },
    "papermill": {
     "duration": 5.713591,
     "end_time": "2023-10-22T09:37:23.969642",
     "exception": false,
     "start_time": "2023-10-22T09:37:18.256051",
     "status": "completed"
    },
    "tags": []
   },
   "outputs": [],
   "source": [
    "import json\n",
    "import numpy as np\n",
    "import pandas as pd\n",
    "import matplotlib.pyplot as plt\n",
    "import seaborn as sns\n",
    "import music21 as m21\n",
    "\n",
    "import torch\n",
    "import torch.nn as nn\n",
    "import torch.nn.functional as F\n",
    "from torch.utils.data import Dataset, DataLoader\n",
    "from torch.utils.data.dataset import random_split\n",
    "from torchinfo import summary\n",
    "\n",
    "from src import chord_parser"
   ]
  },
  {
   "cell_type": "code",
   "execution_count": 2,
   "id": "262282c3",
   "metadata": {
    "execution": {
     "iopub.execute_input": "2023-10-22T09:37:24.058451Z",
     "iopub.status.busy": "2023-10-22T09:37:24.058166Z",
     "iopub.status.idle": "2023-10-22T09:37:27.547550Z",
     "shell.execute_reply": "2023-10-22T09:37:27.546794Z"
    },
    "papermill": {
     "duration": 3.502906,
     "end_time": "2023-10-22T09:37:27.550017",
     "exception": false,
     "start_time": "2023-10-22T09:37:24.047111",
     "status": "completed"
    },
    "tags": []
   },
   "outputs": [],
   "source": [
    "parser = chord_parser.Main()"
   ]
  },
  {
   "cell_type": "code",
   "execution_count": 3,
   "id": "a90121c0",
   "metadata": {
    "execution": {
     "iopub.execute_input": "2023-10-22T09:37:27.571669Z",
     "iopub.status.busy": "2023-10-22T09:37:27.571363Z",
     "iopub.status.idle": "2023-10-22T09:37:29.133881Z",
     "shell.execute_reply": "2023-10-22T09:37:29.132782Z"
    },
    "papermill": {
     "duration": 1.57568,
     "end_time": "2023-10-22T09:37:29.136173",
     "exception": false,
     "start_time": "2023-10-22T09:37:27.560493",
     "status": "completed"
    },
    "tags": []
   },
   "outputs": [
    {
     "data": {
      "text/html": [
       "<div>\n",
       "<style scoped>\n",
       "    .dataframe tbody tr th:only-of-type {\n",
       "        vertical-align: middle;\n",
       "    }\n",
       "\n",
       "    .dataframe tbody tr th {\n",
       "        vertical-align: top;\n",
       "    }\n",
       "\n",
       "    .dataframe thead th {\n",
       "        text-align: right;\n",
       "    }\n",
       "</style>\n",
       "<table border=\"1\" class=\"dataframe\">\n",
       "  <thead>\n",
       "    <tr style=\"text-align: right;\">\n",
       "      <th></th>\n",
       "      <th>url</th>\n",
       "      <th>title</th>\n",
       "      <th>artist</th>\n",
       "      <th>decade</th>\n",
       "      <th>genre</th>\n",
       "      <th>ratings</th>\n",
       "      <th>stars</th>\n",
       "      <th>chords</th>\n",
       "    </tr>\n",
       "  </thead>\n",
       "  <tbody>\n",
       "    <tr>\n",
       "      <th>0</th>\n",
       "      <td>https://tabs.ultimate-guitar.com/tab/jeff-buck...</td>\n",
       "      <td>Hallelujah</td>\n",
       "      <td>Jeff Buckley</td>\n",
       "      <td>1990</td>\n",
       "      <td>Rock|Folk</td>\n",
       "      <td>51639.0</td>\n",
       "      <td>5.0</td>\n",
       "      <td>[tensor(648), tensor(640), tensor(648), tensor...</td>\n",
       "    </tr>\n",
       "    <tr>\n",
       "      <th>1</th>\n",
       "      <td>https://tabs.ultimate-guitar.com/tab/ed-sheera...</td>\n",
       "      <td>Perfect</td>\n",
       "      <td>Ed Sheeran</td>\n",
       "      <td>2010</td>\n",
       "      <td>Pop</td>\n",
       "      <td>44194.0</td>\n",
       "      <td>5.0</td>\n",
       "      <td>[tensor(155), tensor(31), tensor(648), tensor(...</td>\n",
       "    </tr>\n",
       "    <tr>\n",
       "      <th>2</th>\n",
       "      <td>https://tabs.ultimate-guitar.com/tab/elvis-pre...</td>\n",
       "      <td>Cant Help Falling In Love</td>\n",
       "      <td>Elvis Presley</td>\n",
       "      <td>1960</td>\n",
       "      <td>Soundtrack|R&amp;B, Funk &amp; Soul</td>\n",
       "      <td>30059.0</td>\n",
       "      <td>5.0</td>\n",
       "      <td>[tensor(648), tensor(155), tensor(640), tensor...</td>\n",
       "    </tr>\n",
       "    <tr>\n",
       "      <th>3</th>\n",
       "      <td>https://tabs.ultimate-guitar.com/tab/eagles/ho...</td>\n",
       "      <td>Hotel California</td>\n",
       "      <td>Eagles</td>\n",
       "      <td>1970</td>\n",
       "      <td>Rock</td>\n",
       "      <td>28670.0</td>\n",
       "      <td>5.0</td>\n",
       "      <td>[tensor(166), tensor(403), tensor(380), tensor...</td>\n",
       "    </tr>\n",
       "    <tr>\n",
       "      <th>4</th>\n",
       "      <td>https://tabs.ultimate-guitar.com/tab/radiohead...</td>\n",
       "      <td>Creep</td>\n",
       "      <td>Radiohead</td>\n",
       "      <td>1990</td>\n",
       "      <td>Rock</td>\n",
       "      <td>28606.0</td>\n",
       "      <td>5.0</td>\n",
       "      <td>[tensor(155), tensor(78), tensor(648), tensor(...</td>\n",
       "    </tr>\n",
       "  </tbody>\n",
       "</table>\n",
       "</div>"
      ],
      "text/plain": [
       "                                                 url  \\\n",
       "0  https://tabs.ultimate-guitar.com/tab/jeff-buck...   \n",
       "1  https://tabs.ultimate-guitar.com/tab/ed-sheera...   \n",
       "2  https://tabs.ultimate-guitar.com/tab/elvis-pre...   \n",
       "3  https://tabs.ultimate-guitar.com/tab/eagles/ho...   \n",
       "4  https://tabs.ultimate-guitar.com/tab/radiohead...   \n",
       "\n",
       "                       title         artist  decade  \\\n",
       "0                 Hallelujah   Jeff Buckley    1990   \n",
       "1                    Perfect     Ed Sheeran    2010   \n",
       "2  Cant Help Falling In Love  Elvis Presley    1960   \n",
       "3           Hotel California         Eagles    1970   \n",
       "4                      Creep      Radiohead    1990   \n",
       "\n",
       "                         genre  ratings  stars  \\\n",
       "0                    Rock|Folk  51639.0    5.0   \n",
       "1                          Pop  44194.0    5.0   \n",
       "2  Soundtrack|R&B, Funk & Soul  30059.0    5.0   \n",
       "3                         Rock  28670.0    5.0   \n",
       "4                         Rock  28606.0    5.0   \n",
       "\n",
       "                                              chords  \n",
       "0  [tensor(648), tensor(640), tensor(648), tensor...  \n",
       "1  [tensor(155), tensor(31), tensor(648), tensor(...  \n",
       "2  [tensor(648), tensor(155), tensor(640), tensor...  \n",
       "3  [tensor(166), tensor(403), tensor(380), tensor...  \n",
       "4  [tensor(155), tensor(78), tensor(648), tensor(...  "
      ]
     },
     "execution_count": 3,
     "metadata": {},
     "output_type": "execute_result"
    }
   ],
   "source": [
    "data = pd.read_csv('../Data/data_tokenized_pitch_class.csv')\n",
    "data[\"chords\"] = data[\"chords\"].apply(lambda x: torch.tensor(json.loads(x)))\n",
    "data.head()"
   ]
  },
  {
   "cell_type": "code",
   "execution_count": 4,
   "id": "d81f496a",
   "metadata": {
    "execution": {
     "iopub.execute_input": "2023-10-22T09:37:29.159265Z",
     "iopub.status.busy": "2023-10-22T09:37:29.158958Z",
     "iopub.status.idle": "2023-10-22T09:37:29.180410Z",
     "shell.execute_reply": "2023-10-22T09:37:29.179711Z"
    },
    "papermill": {
     "duration": 0.03486,
     "end_time": "2023-10-22T09:37:29.182308",
     "exception": false,
     "start_time": "2023-10-22T09:37:29.147448",
     "status": "completed"
    },
    "tags": []
   },
   "outputs": [],
   "source": [
    "augmentation_map = torch.tensor(np.load('../Data/augmentation_map.npy', allow_pickle=True))\n",
    "\n",
    "with open(\"../Data/token_to_chord.json\", \"r\") as fp:\n",
    "    token_to_chord = json.load(fp)"
   ]
  },
  {
   "cell_type": "code",
   "execution_count": 5,
   "id": "4c608b5b",
   "metadata": {
    "execution": {
     "iopub.execute_input": "2023-10-22T09:37:29.205563Z",
     "iopub.status.busy": "2023-10-22T09:37:29.205277Z",
     "iopub.status.idle": "2023-10-22T09:37:29.211002Z",
     "shell.execute_reply": "2023-10-22T09:37:29.210209Z"
    },
    "papermill": {
     "duration": 0.02013,
     "end_time": "2023-10-22T09:37:29.212790",
     "exception": false,
     "start_time": "2023-10-22T09:37:29.192660",
     "status": "completed"
    },
    "tags": []
   },
   "outputs": [
    {
     "data": {
      "text/plain": [
       "975"
      ]
     },
     "execution_count": 5,
     "metadata": {},
     "output_type": "execute_result"
    }
   ],
   "source": [
    "VOCAB_SIZE = len(token_to_chord) + 2 # For start and end of sequence tokens\n",
    "VOCAB_SIZE"
   ]
  },
  {
   "cell_type": "markdown",
   "id": "27396398",
   "metadata": {
    "papermill": {
     "duration": 0.010089,
     "end_time": "2023-10-22T09:37:29.232995",
     "exception": false,
     "start_time": "2023-10-22T09:37:29.222906",
     "status": "completed"
    },
    "tags": []
   },
   "source": [
    "## Dataset"
   ]
  },
  {
   "cell_type": "code",
   "execution_count": 6,
   "id": "54d333fa",
   "metadata": {
    "execution": {
     "iopub.execute_input": "2023-10-22T09:37:29.254878Z",
     "iopub.status.busy": "2023-10-22T09:37:29.254171Z",
     "iopub.status.idle": "2023-10-22T09:37:29.261621Z",
     "shell.execute_reply": "2023-10-22T09:37:29.260810Z"
    },
    "papermill": {
     "duration": 0.020385,
     "end_time": "2023-10-22T09:37:29.263464",
     "exception": false,
     "start_time": "2023-10-22T09:37:29.243079",
     "status": "completed"
    },
    "tags": []
   },
   "outputs": [],
   "source": [
    "class ChordDataset(Dataset):\n",
    "    def __init__(self, data):\n",
    "        self.data = data\n",
    "\n",
    "    def augment(self, chords):\n",
    "        \"\"\"Change the root note of the chords by a random amount\"\"\"\n",
    "        move_by = torch.randint(0, 12, [1]).item()\n",
    "        return augmentation_map[chords, move_by]\n",
    "\n",
    "    def pad(self, chords):\n",
    "        \"\"\"Pad the input tensor [n] into shape [256] with zeros\"\"\"\n",
    "        out = torch.zeros((256))\n",
    "        out[0] = VOCAB_SIZE - 2 # Start of sequence token\n",
    "        out[1 : 1 + len(chords)] = chords\n",
    "        out[1 + len(chords)] = VOCAB_SIZE - 1 # End of sequence token\n",
    "        return out\n",
    "\n",
    "    def __getitem__(self, index):\n",
    "        x = self.data.iloc[index][\"chords\"]\n",
    "        x = self.augment(x)\n",
    "        return self.pad(x).long()\n",
    "\n",
    "    def __len__(self):\n",
    "        return len(self.data)"
   ]
  },
  {
   "cell_type": "code",
   "execution_count": 7,
   "id": "3c4204fd",
   "metadata": {
    "execution": {
     "iopub.execute_input": "2023-10-22T09:37:29.285390Z",
     "iopub.status.busy": "2023-10-22T09:37:29.285112Z",
     "iopub.status.idle": "2023-10-22T09:37:29.302863Z",
     "shell.execute_reply": "2023-10-22T09:37:29.301983Z"
    },
    "papermill": {
     "duration": 0.030928,
     "end_time": "2023-10-22T09:37:29.304842",
     "exception": false,
     "start_time": "2023-10-22T09:37:29.273914",
     "status": "completed"
    },
    "tags": []
   },
   "outputs": [],
   "source": [
    "torch.manual_seed(42)\n",
    "\n",
    "dataset = ChordDataset(data)\n",
    "\n",
    "train_size = np.rint(len(dataset) * 0.8).astype(int)\n",
    "train_data, test_data = random_split(dataset, [train_size, len(dataset) - train_size])"
   ]
  },
  {
   "cell_type": "code",
   "execution_count": 8,
   "id": "02c95ba1",
   "metadata": {
    "execution": {
     "iopub.execute_input": "2023-10-22T09:37:29.327346Z",
     "iopub.status.busy": "2023-10-22T09:37:29.326634Z",
     "iopub.status.idle": "2023-10-22T09:37:29.331400Z",
     "shell.execute_reply": "2023-10-22T09:37:29.330583Z"
    },
    "papermill": {
     "duration": 0.018239,
     "end_time": "2023-10-22T09:37:29.333318",
     "exception": false,
     "start_time": "2023-10-22T09:37:29.315079",
     "status": "completed"
    },
    "tags": []
   },
   "outputs": [],
   "source": [
    "# Define the dataloaders\n",
    "train_loader = DataLoader(train_data, batch_size=128, shuffle=True)\n",
    "test_loader = DataLoader(test_data, batch_size=128, shuffle=True)"
   ]
  },
  {
   "cell_type": "markdown",
   "id": "62bc98ba",
   "metadata": {
    "papermill": {
     "duration": 0.010021,
     "end_time": "2023-10-22T09:37:29.353691",
     "exception": false,
     "start_time": "2023-10-22T09:37:29.343670",
     "status": "completed"
    },
    "tags": []
   },
   "source": [
    "## Model"
   ]
  },
  {
   "cell_type": "code",
   "execution_count": 9,
   "id": "86923785",
   "metadata": {
    "execution": {
     "iopub.execute_input": "2023-10-22T09:37:29.375721Z",
     "iopub.status.busy": "2023-10-22T09:37:29.375259Z",
     "iopub.status.idle": "2023-10-22T09:37:29.382244Z",
     "shell.execute_reply": "2023-10-22T09:37:29.381396Z"
    },
    "papermill": {
     "duration": 0.020079,
     "end_time": "2023-10-22T09:37:29.384116",
     "exception": false,
     "start_time": "2023-10-22T09:37:29.364037",
     "status": "completed"
    },
    "tags": []
   },
   "outputs": [],
   "source": [
    "class RecurrentNet(nn.Module):\n",
    "    def __init__(self):\n",
    "        super().__init__()\n",
    "        self.chord_embeddings = nn.Embedding(VOCAB_SIZE, 96)\n",
    "        self.gru = nn.GRU(96, 96, num_layers=3, batch_first=True)\n",
    "        self.mlp = nn.Sequential(\n",
    "            nn.Linear(96, 96),\n",
    "            nn.ReLU(),\n",
    "            nn.Linear(96, VOCAB_SIZE),\n",
    "        )\n",
    "        \n",
    "    def forward(self, x):\n",
    "        x = self.chord_embeddings(x)\n",
    "        x, _ = self.gru(x)\n",
    "        return self.mlp(x)\n",
    "    \n",
    "    def predict_next(self, x):\n",
    "        x = self.chord_embeddings(x)\n",
    "        x, _ = self.gru(x)\n",
    "        return self.mlp(x[:, -1])"
   ]
  },
  {
   "cell_type": "code",
   "execution_count": 10,
   "id": "80e7decd",
   "metadata": {
    "execution": {
     "iopub.execute_input": "2023-10-22T09:37:29.406144Z",
     "iopub.status.busy": "2023-10-22T09:37:29.405426Z",
     "iopub.status.idle": "2023-10-22T09:37:34.108961Z",
     "shell.execute_reply": "2023-10-22T09:37:34.108152Z"
    },
    "papermill": {
     "duration": 4.717125,
     "end_time": "2023-10-22T09:37:34.111359",
     "exception": false,
     "start_time": "2023-10-22T09:37:29.394234",
     "status": "completed"
    },
    "tags": []
   },
   "outputs": [],
   "source": [
    "device = torch.device(\"cuda\" if torch.cuda.is_available() else \"cpu\")\n",
    "model = RecurrentNet().to(device)"
   ]
  },
  {
   "cell_type": "code",
   "execution_count": 11,
   "id": "d9fb85b5",
   "metadata": {
    "execution": {
     "iopub.execute_input": "2023-10-22T09:37:34.134075Z",
     "iopub.status.busy": "2023-10-22T09:37:34.133764Z",
     "iopub.status.idle": "2023-10-22T09:37:34.376233Z",
     "shell.execute_reply": "2023-10-22T09:37:34.375187Z"
    },
    "papermill": {
     "duration": 0.256861,
     "end_time": "2023-10-22T09:37:34.379132",
     "exception": false,
     "start_time": "2023-10-22T09:37:34.122271",
     "status": "completed"
    },
    "tags": []
   },
   "outputs": [
    {
     "data": {
      "text/plain": [
       "==========================================================================================\n",
       "Layer (type:depth-idx)                   Output Shape              Param #\n",
       "==========================================================================================\n",
       "RecurrentNet                             [1, 256, 975]             --\n",
       "├─Embedding: 1-1                         [1, 256, 96]              93,600\n",
       "├─GRU: 1-2                               [1, 256, 96]              167,616\n",
       "├─Sequential: 1-3                        [1, 256, 975]             --\n",
       "│    └─Linear: 2-1                       [1, 256, 96]              9,312\n",
       "│    └─ReLU: 2-2                         [1, 256, 96]              --\n",
       "│    └─Linear: 2-3                       [1, 256, 975]             94,575\n",
       "==========================================================================================\n",
       "Total params: 365,103\n",
       "Trainable params: 365,103\n",
       "Non-trainable params: 0\n",
       "Total mult-adds (M): 43.11\n",
       "==========================================================================================\n",
       "Input size (MB): 0.00\n",
       "Forward/backward pass size (MB): 2.59\n",
       "Params size (MB): 1.46\n",
       "Estimated Total Size (MB): 4.05\n",
       "=========================================================================================="
      ]
     },
     "execution_count": 11,
     "metadata": {},
     "output_type": "execute_result"
    }
   ],
   "source": [
    "input_tensor = torch.zeros((1, 256), dtype=torch.long, device=device)\n",
    "summary(model, input_data=input_tensor, device=device)"
   ]
  },
  {
   "cell_type": "markdown",
   "id": "47ce84c8",
   "metadata": {
    "papermill": {
     "duration": 0.010819,
     "end_time": "2023-10-22T09:37:34.404155",
     "exception": false,
     "start_time": "2023-10-22T09:37:34.393336",
     "status": "completed"
    },
    "tags": []
   },
   "source": [
    "## Trainer"
   ]
  },
  {
   "cell_type": "code",
   "execution_count": 12,
   "id": "b643e379",
   "metadata": {
    "execution": {
     "iopub.execute_input": "2023-10-22T09:37:34.428659Z",
     "iopub.status.busy": "2023-10-22T09:37:34.428320Z",
     "iopub.status.idle": "2023-10-22T09:37:34.468046Z",
     "shell.execute_reply": "2023-10-22T09:37:34.467149Z"
    },
    "papermill": {
     "duration": 0.054769,
     "end_time": "2023-10-22T09:37:34.469964",
     "exception": false,
     "start_time": "2023-10-22T09:37:34.415195",
     "status": "completed"
    },
    "tags": []
   },
   "outputs": [],
   "source": [
    "class Trainer():\n",
    "    def __init__(self, epochs, train_loader, test_loader, model, optimizer, criterion, device, lr_scheduler):\n",
    "        self.epochs = epochs\n",
    "        self.train_loader = train_loader\n",
    "        self.test_loader = test_loader\n",
    "        self.model = model\n",
    "        self.optimizer = optimizer\n",
    "        self.one_hot_criterion = criterion\n",
    "        self.device = device\n",
    "        self.print_every = 32\n",
    "        self.lr_scheduler = lr_scheduler\n",
    "        \n",
    "        self.step_data = {\"train_losses\": [], \"test_losses\": [], \"train_accuracies\": [], \"test_accuracies\": []}\n",
    "        self.epoch_data = {\"train_losses\": [], \"test_losses\": [], \"train_accuracies\": [], \"test_accuracies\": []}\n",
    "    \n",
    "\n",
    "    def loss_mask(self, y_pred, x):\n",
    "        \"\"\"Get the mask for the loss function, so that the loss is not calculated for the padded elements\"\"\"\n",
    "        eos_index = torch.argmax((x == VOCAB_SIZE - 1).float(), dim=1)\n",
    "        range_tensor = torch.arange(y_pred.shape[1]).unsqueeze(0).expand(y_pred.shape[0], -1).to(self.device)\n",
    "        mask = range_tensor <= eos_index.unsqueeze(1)\n",
    "        return mask\n",
    "    \n",
    "    def masked_accuracy(self, y_pred, x):\n",
    "        \"\"\"Calculate the accuracy of the model only for the elements of the sequence\"\"\"\n",
    "        y_pred, x = y_pred[:, :-1], x[:, 1:]\n",
    "        eos_index = torch.argmax((x == VOCAB_SIZE - 1).float(), dim=1)\n",
    "        range_tensor = torch.arange(y_pred.shape[1]).unsqueeze(0).expand(y_pred.shape[0], -1).to(self.device)\n",
    "        # EOS is not included in the accuracy calculation\n",
    "        mask = range_tensor < eos_index.unsqueeze(1)\n",
    "        valid_elements = torch.sum(mask.float())\n",
    "\n",
    "        same = torch.argmax(y_pred, dim=2) == x\n",
    "            \n",
    "        return torch.sum(same.float() * mask.float()) / valid_elements\n",
    "    \n",
    "    def masked_cross_entropy(self, logits, target, mask):\n",
    "        \"\"\"\n",
    "        logits: Predictions from the model, of shape (batch_size, sequence_length, vocab_size)\n",
    "        target: Ground truth labels, of shape (batch_size, sequence_length)\n",
    "        mask: Binary mask indicating the non-padded parts, of shape (batch_size, sequence_length)\n",
    "        \"\"\"\n",
    "\n",
    "        # Compute the raw CrossEntropyLoss\n",
    "        loss = nn.CrossEntropyLoss(reduction='none')(logits.transpose(1, 2), target)\n",
    "\n",
    "        # Apply the mask to the loss\n",
    "        masked_loss = loss * mask.float()\n",
    "\n",
    "        # Compute the mean loss over non-padded parts\n",
    "        final_loss = masked_loss.sum() / mask.float().sum()\n",
    "\n",
    "        return final_loss\n",
    "    \n",
    "    def train_step(self):\n",
    "        self.model.train()\n",
    "        for i, x in enumerate(self.train_loader):\n",
    "            x = x.to(self.device)\n",
    "            y_pred = self.model(x)\n",
    "            mask = self.loss_mask(y_pred, x)\n",
    "            \n",
    "            loss = self.masked_cross_entropy(y_pred[:, :-1], x[:, 1:], mask[:, :-1])\n",
    "            self.step_data[\"train_losses\"].append(loss.item())\n",
    "            \n",
    "            self.step_data[\"train_accuracies\"].append(self.masked_accuracy(y_pred, x).item())\n",
    "\n",
    "            if i % self.print_every == self.print_every - 1:\n",
    "                print(f\"Batch {i + 1}/{len(self.train_loader)}, Loss: {loss.item():.4f}, Accuracy: {self.step_data['train_accuracies'][-1]:.4f}\")\n",
    "                            \n",
    "            self.optimizer.zero_grad()\n",
    "            loss.backward()\n",
    "            self.optimizer.step()\n",
    "            \n",
    "        self.epoch_data[\"train_losses\"].append(np.array(self.step_data[\"train_losses\"]).mean())\n",
    "        self.epoch_data[\"train_accuracies\"].append(np.array(self.step_data[\"train_accuracies\"]).mean())\n",
    "                   \n",
    "        \n",
    "    def eval_step(self):\n",
    "        self.model.eval()\n",
    "        for i, x in enumerate(self.test_loader):\n",
    "            x = x.to(self.device)\n",
    "            with torch.inference_mode():\n",
    "                y_pred = self.model(x)\n",
    "\n",
    "            mask = self.loss_mask(y_pred, x)            \n",
    "            loss = self.masked_cross_entropy(y_pred[:, :-1], x[:, 1:], mask[:, :-1])\n",
    "            self.step_data[\"test_losses\"].append(loss.item())\n",
    "                        \n",
    "            self.step_data[\"test_accuracies\"].append(self.masked_accuracy(y_pred, x).item())\n",
    "        \n",
    "        self.epoch_data[\"test_losses\"].append(np.array(self.step_data[\"test_losses\"]).mean())\n",
    "        self.epoch_data[\"test_accuracies\"].append(np.array(self.step_data[\"test_accuracies\"]).mean())\n",
    "                    \n",
    "        \n",
    "        print(f\"Test Loss: {loss.item():.4f}, Accuracy: {self.step_data['test_accuracies'][-1]:.4f}\")\n",
    "\n",
    "    def plot(self):\n",
    "        fig, axes = plt.subplots(2, 1, figsize=(15, 15))\n",
    "        axes[0].set_title(\"Loss\")\n",
    "        sns.lineplot(x=range(len(self.epoch_data[\"train_losses\"])), y=self.epoch_data[\"train_losses\"], label=\"Train Loss\", ax=axes[0])\n",
    "        sns.lineplot(x=range(len(self.epoch_data[\"test_losses\"])), y=self.epoch_data[\"test_losses\"], label=\"Test Loss\", ax=axes[0])\n",
    "\n",
    "        axes[1].set_title(\"Total Accuracy\")\n",
    "        sns.lineplot(x=range(len(self.epoch_data[\"train_accuracies\"])), y=self.epoch_data[\"train_accuracies\"], label=\"Train Accuracy\", ax=axes[1])\n",
    "        sns.lineplot(x=range(len(self.epoch_data[\"test_accuracies\"])), y=self.epoch_data[\"test_accuracies\"], label=\"Test Accuracy\", ax=axes[1])\n",
    "        \n",
    "    \n",
    "    def init_metrics(self):\n",
    "        self.step_data = {\"train_losses\": [], \"test_losses\": [], \"train_accuracies\": [], \"test_accuracies\": []}\n",
    "\n",
    "        \n",
    "    def train(self):    \n",
    "        for epoch in range(self.epochs):\n",
    "            print(f\"Epoch {epoch + 1}/{self.epochs}\\n-------------------------------\")\n",
    "            self.init_metrics()\n",
    "            self.train_step()\n",
    "            self.eval_step()\n",
    "            self.lr_scheduler.step()\n",
    "            \n",
    "        self.plot()"
   ]
  },
  {
   "cell_type": "markdown",
   "id": "58b8436c",
   "metadata": {
    "papermill": {
     "duration": 0.010312,
     "end_time": "2023-10-22T09:37:34.490707",
     "exception": false,
     "start_time": "2023-10-22T09:37:34.480395",
     "status": "completed"
    },
    "tags": []
   },
   "source": [
    "## Training"
   ]
  },
  {
   "cell_type": "code",
   "execution_count": 13,
   "id": "2154ceba",
   "metadata": {
    "execution": {
     "iopub.execute_input": "2023-10-22T09:37:34.512544Z",
     "iopub.status.busy": "2023-10-22T09:37:34.512271Z",
     "iopub.status.idle": "2023-10-22T09:37:34.517938Z",
     "shell.execute_reply": "2023-10-22T09:37:34.517065Z"
    },
    "papermill": {
     "duration": 0.018714,
     "end_time": "2023-10-22T09:37:34.519771",
     "exception": false,
     "start_time": "2023-10-22T09:37:34.501057",
     "status": "completed"
    },
    "tags": []
   },
   "outputs": [],
   "source": [
    "criterion = nn.CrossEntropyLoss()\n",
    "optimizer = torch.optim.Adam(model.parameters(), lr=0.001)\n",
    "lr_scheduler = torch.optim.lr_scheduler.StepLR(optimizer, step_size=10, gamma=0.3)\n",
    "trainer = Trainer(\n",
    "    epochs=50,\n",
    "    train_loader=train_loader,\n",
    "    test_loader=test_loader,\n",
    "    model=model,\n",
    "    optimizer=optimizer,\n",
    "    criterion=criterion,\n",
    "    device=device,\n",
    "    lr_scheduler=lr_scheduler,\n",
    ")"
   ]
  },
  {
   "cell_type": "code",
   "execution_count": 14,
   "id": "fc91b5c8",
   "metadata": {
    "execution": {
     "iopub.execute_input": "2023-10-22T09:37:34.541833Z",
     "iopub.status.busy": "2023-10-22T09:37:34.541325Z",
     "iopub.status.idle": "2023-10-22T09:44:41.110896Z",
     "shell.execute_reply": "2023-10-22T09:44:41.110091Z"
    },
    "papermill": {
     "duration": 426.585541,
     "end_time": "2023-10-22T09:44:41.115541",
     "exception": false,
     "start_time": "2023-10-22T09:37:34.530000",
     "status": "completed"
    },
    "tags": []
   },
   "outputs": [
    {
     "name": "stdout",
     "output_type": "stream",
     "text": [
      "Epoch 1/50\n",
      "-------------------------------\n",
      "Batch 32/139, Loss: 3.9620, Accuracy: 0.0564\n",
      "Batch 64/139, Loss: 3.5954, Accuracy: 0.1500\n",
      "Batch 96/139, Loss: 3.0728, Accuracy: 0.1946\n",
      "Batch 128/139, Loss: 2.9088, Accuracy: 0.1803\n",
      "Test Loss: 2.8494, Accuracy: 0.2040\n",
      "Epoch 2/50\n",
      "-------------------------------\n",
      "Batch 32/139, Loss: 2.7284, Accuracy: 0.1938\n",
      "Batch 64/139, Loss: 2.6917, Accuracy: 0.2037\n",
      "Batch 96/139, Loss: 2.7800, Accuracy: 0.2024\n",
      "Batch 128/139, Loss: 2.5491, Accuracy: 0.2290\n",
      "Test Loss: 2.4726, Accuracy: 0.2413\n",
      "Epoch 3/50\n",
      "-------------------------------\n",
      "Batch 32/139, Loss: 2.5242, Accuracy: 0.2779\n",
      "Batch 64/139, Loss: 2.4094, Accuracy: 0.3061\n",
      "Batch 96/139, Loss: 2.3232, Accuracy: 0.3296\n",
      "Batch 128/139, Loss: 2.3697, Accuracy: 0.3438\n",
      "Test Loss: 2.3450, Accuracy: 0.3779\n",
      "Epoch 4/50\n",
      "-------------------------------\n",
      "Batch 32/139, Loss: 2.2502, Accuracy: 0.3992\n",
      "Batch 64/139, Loss: 2.3877, Accuracy: 0.3776\n",
      "Batch 96/139, Loss: 2.2846, Accuracy: 0.4185\n",
      "Batch 128/139, Loss: 2.0586, Accuracy: 0.4680\n",
      "Test Loss: 2.1970, Accuracy: 0.4070\n",
      "Epoch 5/50\n",
      "-------------------------------\n",
      "Batch 32/139, Loss: 2.1163, Accuracy: 0.4299\n",
      "Batch 64/139, Loss: 1.8886, Accuracy: 0.4800\n",
      "Batch 96/139, Loss: 2.1654, Accuracy: 0.4276\n",
      "Batch 128/139, Loss: 1.9980, Accuracy: 0.4663\n",
      "Test Loss: 1.9641, Accuracy: 0.4816\n",
      "Epoch 6/50\n",
      "-------------------------------\n",
      "Batch 32/139, Loss: 2.1639, Accuracy: 0.4323\n",
      "Batch 64/139, Loss: 1.9201, Accuracy: 0.4883\n",
      "Batch 96/139, Loss: 2.0717, Accuracy: 0.4427\n",
      "Batch 128/139, Loss: 1.8410, Accuracy: 0.5147\n",
      "Test Loss: 1.9541, Accuracy: 0.4888\n",
      "Epoch 7/50\n",
      "-------------------------------\n",
      "Batch 32/139, Loss: 1.9881, Accuracy: 0.4634\n",
      "Batch 64/139, Loss: 1.9510, Accuracy: 0.4739\n",
      "Batch 96/139, Loss: 2.0098, Accuracy: 0.4807\n",
      "Batch 128/139, Loss: 1.8783, Accuracy: 0.5024\n",
      "Test Loss: 1.8621, Accuracy: 0.5142\n",
      "Epoch 8/50\n",
      "-------------------------------\n",
      "Batch 32/139, Loss: 1.8325, Accuracy: 0.5119\n",
      "Batch 64/139, Loss: 2.0284, Accuracy: 0.4569\n",
      "Batch 96/139, Loss: 1.8749, Accuracy: 0.4937\n",
      "Batch 128/139, Loss: 2.0600, Accuracy: 0.4717\n",
      "Test Loss: 1.7096, Accuracy: 0.5405\n",
      "Epoch 9/50\n",
      "-------------------------------\n",
      "Batch 32/139, Loss: 1.8455, Accuracy: 0.4910\n",
      "Batch 64/139, Loss: 1.7953, Accuracy: 0.5098\n",
      "Batch 96/139, Loss: 1.8214, Accuracy: 0.5048\n",
      "Batch 128/139, Loss: 1.7445, Accuracy: 0.5328\n",
      "Test Loss: 1.7550, Accuracy: 0.5166\n",
      "Epoch 10/50\n",
      "-------------------------------\n",
      "Batch 32/139, Loss: 1.7703, Accuracy: 0.5238\n",
      "Batch 64/139, Loss: 1.7973, Accuracy: 0.5356\n",
      "Batch 96/139, Loss: 1.7296, Accuracy: 0.5206\n",
      "Batch 128/139, Loss: 1.6509, Accuracy: 0.5453\n",
      "Test Loss: 1.8007, Accuracy: 0.5195\n",
      "Epoch 11/50\n",
      "-------------------------------\n",
      "Batch 32/139, Loss: 1.8303, Accuracy: 0.5099\n",
      "Batch 64/139, Loss: 1.8230, Accuracy: 0.4918\n",
      "Batch 96/139, Loss: 1.5820, Accuracy: 0.5545\n",
      "Batch 128/139, Loss: 1.6987, Accuracy: 0.5444\n",
      "Test Loss: 1.8096, Accuracy: 0.5150\n",
      "Epoch 12/50\n",
      "-------------------------------\n",
      "Batch 32/139, Loss: 1.7729, Accuracy: 0.5107\n",
      "Batch 64/139, Loss: 1.8072, Accuracy: 0.5095\n",
      "Batch 96/139, Loss: 1.7240, Accuracy: 0.5283\n",
      "Batch 128/139, Loss: 1.7757, Accuracy: 0.5297\n",
      "Test Loss: 1.5328, Accuracy: 0.5802\n",
      "Epoch 13/50\n",
      "-------------------------------\n",
      "Batch 32/139, Loss: 1.6679, Accuracy: 0.5409\n",
      "Batch 64/139, Loss: 1.7477, Accuracy: 0.5205\n",
      "Batch 96/139, Loss: 1.7024, Accuracy: 0.5296\n",
      "Batch 128/139, Loss: 1.7241, Accuracy: 0.5352\n",
      "Test Loss: 1.9468, Accuracy: 0.4753\n",
      "Epoch 14/50\n",
      "-------------------------------\n",
      "Batch 32/139, Loss: 1.6790, Accuracy: 0.5404\n",
      "Batch 64/139, Loss: 1.8288, Accuracy: 0.5271\n",
      "Batch 96/139, Loss: 1.5186, Accuracy: 0.5889\n",
      "Batch 128/139, Loss: 1.7005, Accuracy: 0.5446\n",
      "Test Loss: 1.6565, Accuracy: 0.5499\n",
      "Epoch 15/50\n",
      "-------------------------------\n",
      "Batch 32/139, Loss: 1.7474, Accuracy: 0.5339\n",
      "Batch 64/139, Loss: 1.8127, Accuracy: 0.5478\n",
      "Batch 96/139, Loss: 1.7602, Accuracy: 0.5455\n",
      "Batch 128/139, Loss: 1.7421, Accuracy: 0.5344\n",
      "Test Loss: 1.6718, Accuracy: 0.5327\n",
      "Epoch 16/50\n",
      "-------------------------------\n",
      "Batch 32/139, Loss: 2.0268, Accuracy: 0.4786\n",
      "Batch 64/139, Loss: 1.7377, Accuracy: 0.5447\n",
      "Batch 96/139, Loss: 1.6498, Accuracy: 0.5509\n",
      "Batch 128/139, Loss: 1.5671, Accuracy: 0.5697\n",
      "Test Loss: 1.6382, Accuracy: 0.5702\n",
      "Epoch 17/50\n",
      "-------------------------------\n",
      "Batch 32/139, Loss: 1.5924, Accuracy: 0.5631\n",
      "Batch 64/139, Loss: 1.7459, Accuracy: 0.5258\n",
      "Batch 96/139, Loss: 1.6025, Accuracy: 0.5529\n",
      "Batch 128/139, Loss: 1.7017, Accuracy: 0.5292\n",
      "Test Loss: 1.8519, Accuracy: 0.5125\n",
      "Epoch 18/50\n",
      "-------------------------------\n",
      "Batch 32/139, Loss: 1.7282, Accuracy: 0.5321\n",
      "Batch 64/139, Loss: 1.6021, Accuracy: 0.5569\n",
      "Batch 96/139, Loss: 1.7026, Accuracy: 0.5473\n",
      "Batch 128/139, Loss: 1.6520, Accuracy: 0.5364\n",
      "Test Loss: 1.6838, Accuracy: 0.5352\n",
      "Epoch 19/50\n",
      "-------------------------------\n",
      "Batch 32/139, Loss: 1.6396, Accuracy: 0.5626\n",
      "Batch 64/139, Loss: 1.5486, Accuracy: 0.5913\n",
      "Batch 96/139, Loss: 1.7178, Accuracy: 0.5368\n",
      "Batch 128/139, Loss: 1.6264, Accuracy: 0.5677\n",
      "Test Loss: 1.7290, Accuracy: 0.5412\n",
      "Epoch 20/50\n",
      "-------------------------------\n",
      "Batch 32/139, Loss: 1.7190, Accuracy: 0.5516\n",
      "Batch 64/139, Loss: 1.9294, Accuracy: 0.5020\n",
      "Batch 96/139, Loss: 1.7284, Accuracy: 0.5443\n",
      "Batch 128/139, Loss: 1.6762, Accuracy: 0.5566\n",
      "Test Loss: 1.8094, Accuracy: 0.5306\n",
      "Epoch 21/50\n",
      "-------------------------------\n",
      "Batch 32/139, Loss: 1.6194, Accuracy: 0.5631\n",
      "Batch 64/139, Loss: 1.7916, Accuracy: 0.5276\n",
      "Batch 96/139, Loss: 1.7040, Accuracy: 0.5485\n",
      "Batch 128/139, Loss: 1.8215, Accuracy: 0.5310\n",
      "Test Loss: 1.7521, Accuracy: 0.5309\n",
      "Epoch 22/50\n",
      "-------------------------------\n",
      "Batch 32/139, Loss: 1.6237, Accuracy: 0.5524\n",
      "Batch 64/139, Loss: 1.6539, Accuracy: 0.5485\n",
      "Batch 96/139, Loss: 1.6837, Accuracy: 0.5585\n",
      "Batch 128/139, Loss: 1.5823, Accuracy: 0.5683\n",
      "Test Loss: 1.6599, Accuracy: 0.5487\n",
      "Epoch 23/50\n",
      "-------------------------------\n",
      "Batch 32/139, Loss: 1.8180, Accuracy: 0.5160\n",
      "Batch 64/139, Loss: 1.6744, Accuracy: 0.5708\n",
      "Batch 96/139, Loss: 1.6060, Accuracy: 0.5739\n",
      "Batch 128/139, Loss: 1.7494, Accuracy: 0.5592\n",
      "Test Loss: 1.8136, Accuracy: 0.5201\n",
      "Epoch 24/50\n",
      "-------------------------------\n",
      "Batch 32/139, Loss: 1.7439, Accuracy: 0.5428\n",
      "Batch 64/139, Loss: 1.6527, Accuracy: 0.5440\n",
      "Batch 96/139, Loss: 1.6362, Accuracy: 0.5587\n",
      "Batch 128/139, Loss: 1.7803, Accuracy: 0.5237\n",
      "Test Loss: 1.6621, Accuracy: 0.5666\n",
      "Epoch 25/50\n",
      "-------------------------------\n",
      "Batch 32/139, Loss: 1.5023, Accuracy: 0.5776\n",
      "Batch 64/139, Loss: 1.6762, Accuracy: 0.5491\n",
      "Batch 96/139, Loss: 1.4861, Accuracy: 0.5912\n",
      "Batch 128/139, Loss: 1.5307, Accuracy: 0.6037\n",
      "Test Loss: 1.6551, Accuracy: 0.5485\n",
      "Epoch 26/50\n",
      "-------------------------------\n",
      "Batch 32/139, Loss: 1.5953, Accuracy: 0.5704\n",
      "Batch 64/139, Loss: 1.5610, Accuracy: 0.5711\n",
      "Batch 96/139, Loss: 1.7508, Accuracy: 0.5258\n",
      "Batch 128/139, Loss: 1.6558, Accuracy: 0.5509\n",
      "Test Loss: 1.9197, Accuracy: 0.4824\n",
      "Epoch 27/50\n",
      "-------------------------------\n",
      "Batch 32/139, Loss: 1.6427, Accuracy: 0.5692\n",
      "Batch 64/139, Loss: 1.5905, Accuracy: 0.5693\n",
      "Batch 96/139, Loss: 1.6942, Accuracy: 0.5464\n",
      "Batch 128/139, Loss: 1.6454, Accuracy: 0.5559\n",
      "Test Loss: 1.6540, Accuracy: 0.5455\n",
      "Epoch 28/50\n",
      "-------------------------------\n",
      "Batch 32/139, Loss: 1.8099, Accuracy: 0.5331\n",
      "Batch 64/139, Loss: 1.8125, Accuracy: 0.5092\n",
      "Batch 96/139, Loss: 1.7023, Accuracy: 0.5593\n",
      "Batch 128/139, Loss: 1.7601, Accuracy: 0.5496\n",
      "Test Loss: 1.6435, Accuracy: 0.5490\n",
      "Epoch 29/50\n",
      "-------------------------------\n",
      "Batch 32/139, Loss: 1.6129, Accuracy: 0.5603\n",
      "Batch 64/139, Loss: 1.5679, Accuracy: 0.5699\n",
      "Batch 96/139, Loss: 1.6536, Accuracy: 0.5505\n",
      "Batch 128/139, Loss: 1.5073, Accuracy: 0.5863\n",
      "Test Loss: 1.7760, Accuracy: 0.5079\n",
      "Epoch 30/50\n",
      "-------------------------------\n",
      "Batch 32/139, Loss: 1.7706, Accuracy: 0.5420\n",
      "Batch 64/139, Loss: 1.7632, Accuracy: 0.5459\n",
      "Batch 96/139, Loss: 1.6356, Accuracy: 0.5456\n",
      "Batch 128/139, Loss: 1.6342, Accuracy: 0.5583\n",
      "Test Loss: 1.8155, Accuracy: 0.5370\n",
      "Epoch 31/50\n",
      "-------------------------------\n",
      "Batch 32/139, Loss: 1.5162, Accuracy: 0.5663\n",
      "Batch 64/139, Loss: 1.5906, Accuracy: 0.5579\n",
      "Batch 96/139, Loss: 1.5758, Accuracy: 0.5879\n",
      "Batch 128/139, Loss: 1.5677, Accuracy: 0.5933\n",
      "Test Loss: 1.6109, Accuracy: 0.5621\n",
      "Epoch 32/50\n",
      "-------------------------------\n",
      "Batch 32/139, Loss: 1.4671, Accuracy: 0.5954\n",
      "Batch 64/139, Loss: 1.5677, Accuracy: 0.5755\n",
      "Batch 96/139, Loss: 1.8210, Accuracy: 0.5390\n",
      "Batch 128/139, Loss: 1.6526, Accuracy: 0.5578\n",
      "Test Loss: 1.5812, Accuracy: 0.5924\n",
      "Epoch 33/50\n",
      "-------------------------------\n",
      "Batch 32/139, Loss: 1.5845, Accuracy: 0.5758\n",
      "Batch 64/139, Loss: 1.4677, Accuracy: 0.6120\n",
      "Batch 96/139, Loss: 1.5403, Accuracy: 0.5551\n",
      "Batch 128/139, Loss: 1.5938, Accuracy: 0.5616\n",
      "Test Loss: 1.4970, Accuracy: 0.5989\n",
      "Epoch 34/50\n",
      "-------------------------------\n",
      "Batch 32/139, Loss: 1.5830, Accuracy: 0.5636\n",
      "Batch 64/139, Loss: 1.5340, Accuracy: 0.5659\n",
      "Batch 96/139, Loss: 1.6497, Accuracy: 0.5601\n",
      "Batch 128/139, Loss: 1.5857, Accuracy: 0.5653\n",
      "Test Loss: 1.4457, Accuracy: 0.6175\n",
      "Epoch 35/50\n",
      "-------------------------------\n",
      "Batch 32/139, Loss: 1.6114, Accuracy: 0.5705\n",
      "Batch 64/139, Loss: 1.6723, Accuracy: 0.5670\n",
      "Batch 96/139, Loss: 1.6316, Accuracy: 0.5738\n",
      "Batch 128/139, Loss: 1.6428, Accuracy: 0.5534\n",
      "Test Loss: 1.7163, Accuracy: 0.5521\n",
      "Epoch 36/50\n",
      "-------------------------------\n",
      "Batch 32/139, Loss: 1.5987, Accuracy: 0.5584\n",
      "Batch 64/139, Loss: 1.6549, Accuracy: 0.5391\n",
      "Batch 96/139, Loss: 1.6860, Accuracy: 0.5501\n",
      "Batch 128/139, Loss: 1.7281, Accuracy: 0.5368\n",
      "Test Loss: 1.8965, Accuracy: 0.4821\n",
      "Epoch 37/50\n",
      "-------------------------------\n",
      "Batch 32/139, Loss: 1.4233, Accuracy: 0.6160\n",
      "Batch 64/139, Loss: 1.7250, Accuracy: 0.5305\n",
      "Batch 96/139, Loss: 1.6356, Accuracy: 0.5395\n",
      "Batch 128/139, Loss: 1.4918, Accuracy: 0.5861\n",
      "Test Loss: 1.8487, Accuracy: 0.5113\n",
      "Epoch 38/50\n",
      "-------------------------------\n",
      "Batch 32/139, Loss: 1.6628, Accuracy: 0.5416\n",
      "Batch 64/139, Loss: 1.7328, Accuracy: 0.5291\n",
      "Batch 96/139, Loss: 1.6297, Accuracy: 0.5629\n",
      "Batch 128/139, Loss: 1.5757, Accuracy: 0.5669\n",
      "Test Loss: 1.7954, Accuracy: 0.5274\n",
      "Epoch 39/50\n",
      "-------------------------------\n",
      "Batch 32/139, Loss: 1.5378, Accuracy: 0.5661\n",
      "Batch 64/139, Loss: 1.6506, Accuracy: 0.5503\n",
      "Batch 96/139, Loss: 1.7425, Accuracy: 0.5371\n",
      "Batch 128/139, Loss: 1.6541, Accuracy: 0.5536\n",
      "Test Loss: 1.7832, Accuracy: 0.5458\n",
      "Epoch 40/50\n",
      "-------------------------------\n",
      "Batch 32/139, Loss: 1.6093, Accuracy: 0.5545\n",
      "Batch 64/139, Loss: 1.6929, Accuracy: 0.5520\n",
      "Batch 96/139, Loss: 1.6930, Accuracy: 0.5375\n",
      "Batch 128/139, Loss: 1.5888, Accuracy: 0.5738\n",
      "Test Loss: 1.6710, Accuracy: 0.5546\n",
      "Epoch 41/50\n",
      "-------------------------------\n",
      "Batch 32/139, Loss: 1.6725, Accuracy: 0.5601\n",
      "Batch 64/139, Loss: 1.7826, Accuracy: 0.5264\n",
      "Batch 96/139, Loss: 1.6010, Accuracy: 0.5557\n",
      "Batch 128/139, Loss: 1.7148, Accuracy: 0.5494\n",
      "Test Loss: 1.5888, Accuracy: 0.5783\n",
      "Epoch 42/50\n",
      "-------------------------------\n",
      "Batch 32/139, Loss: 1.6619, Accuracy: 0.5578\n",
      "Batch 64/139, Loss: 1.5057, Accuracy: 0.5777\n",
      "Batch 96/139, Loss: 1.6229, Accuracy: 0.5567\n",
      "Batch 128/139, Loss: 1.5445, Accuracy: 0.5855\n",
      "Test Loss: 1.6564, Accuracy: 0.5411\n",
      "Epoch 43/50\n",
      "-------------------------------\n",
      "Batch 32/139, Loss: 1.7171, Accuracy: 0.5344\n",
      "Batch 64/139, Loss: 1.6620, Accuracy: 0.5550\n",
      "Batch 96/139, Loss: 1.6810, Accuracy: 0.5384\n",
      "Batch 128/139, Loss: 1.6603, Accuracy: 0.5744\n",
      "Test Loss: 1.6702, Accuracy: 0.5611\n",
      "Epoch 44/50\n",
      "-------------------------------\n",
      "Batch 32/139, Loss: 1.7245, Accuracy: 0.5426\n",
      "Batch 64/139, Loss: 1.7027, Accuracy: 0.5526\n",
      "Batch 96/139, Loss: 1.5279, Accuracy: 0.5962\n",
      "Batch 128/139, Loss: 1.7285, Accuracy: 0.5187\n",
      "Test Loss: 1.7915, Accuracy: 0.5412\n",
      "Epoch 45/50\n",
      "-------------------------------\n",
      "Batch 32/139, Loss: 1.7262, Accuracy: 0.5496\n",
      "Batch 64/139, Loss: 1.7455, Accuracy: 0.5266\n",
      "Batch 96/139, Loss: 1.5984, Accuracy: 0.5734\n",
      "Batch 128/139, Loss: 1.5992, Accuracy: 0.5631\n",
      "Test Loss: 1.6148, Accuracy: 0.5722\n",
      "Epoch 46/50\n",
      "-------------------------------\n",
      "Batch 32/139, Loss: 1.4693, Accuracy: 0.5797\n",
      "Batch 64/139, Loss: 1.6331, Accuracy: 0.5566\n",
      "Batch 96/139, Loss: 1.6092, Accuracy: 0.5690\n",
      "Batch 128/139, Loss: 1.6257, Accuracy: 0.5696\n",
      "Test Loss: 1.5997, Accuracy: 0.5576\n",
      "Epoch 47/50\n",
      "-------------------------------\n",
      "Batch 32/139, Loss: 1.7956, Accuracy: 0.5157\n",
      "Batch 64/139, Loss: 1.7773, Accuracy: 0.5298\n",
      "Batch 96/139, Loss: 1.5680, Accuracy: 0.5782\n",
      "Batch 128/139, Loss: 1.6458, Accuracy: 0.5544\n",
      "Test Loss: 1.6870, Accuracy: 0.5591\n",
      "Epoch 48/50\n",
      "-------------------------------\n",
      "Batch 32/139, Loss: 1.7235, Accuracy: 0.5511\n",
      "Batch 64/139, Loss: 1.7067, Accuracy: 0.5678\n",
      "Batch 96/139, Loss: 1.6088, Accuracy: 0.5618\n",
      "Batch 128/139, Loss: 1.7483, Accuracy: 0.5550\n",
      "Test Loss: 1.5034, Accuracy: 0.5833\n",
      "Epoch 49/50\n",
      "-------------------------------\n",
      "Batch 32/139, Loss: 1.6204, Accuracy: 0.5645\n",
      "Batch 64/139, Loss: 1.5675, Accuracy: 0.5717\n",
      "Batch 96/139, Loss: 1.8558, Accuracy: 0.5079\n",
      "Batch 128/139, Loss: 1.8028, Accuracy: 0.5408\n",
      "Test Loss: 1.8584, Accuracy: 0.4936\n",
      "Epoch 50/50\n",
      "-------------------------------\n",
      "Batch 32/139, Loss: 1.7113, Accuracy: 0.5299\n",
      "Batch 64/139, Loss: 1.7920, Accuracy: 0.5319\n",
      "Batch 96/139, Loss: 1.4475, Accuracy: 0.6018\n",
      "Batch 128/139, Loss: 1.6202, Accuracy: 0.5721\n",
      "Test Loss: 1.5589, Accuracy: 0.5752\n"
     ]
    },
    {
     "data": {
      "image/png": "[encoded data removed]",
      "text/plain": [
       "<Figure size 1500x1500 with 2 Axes>"
      ]
     },
     "metadata": {
      "image/png": {
       "height": 1220,
       "width": 1214
      }
     },
     "output_type": "display_data"
    }
   ],
   "source": [
    "trainer.train()"
   ]
  },
  {
   "cell_type": "code",
   "execution_count": 15,
   "id": "3ead6438",
   "metadata": {
    "execution": {
     "iopub.execute_input": "2023-10-22T09:44:41.182853Z",
     "iopub.status.busy": "2023-10-22T09:44:41.182485Z",
     "iopub.status.idle": "2023-10-22T09:44:41.193176Z",
     "shell.execute_reply": "2023-10-22T09:44:41.192305Z"
    },
    "papermill": {
     "duration": 0.04648,
     "end_time": "2023-10-22T09:44:41.195174",
     "exception": false,
     "start_time": "2023-10-22T09:44:41.148694",
     "status": "completed"
    },
    "tags": []
   },
   "outputs": [],
   "source": [
    "torch.save(model.state_dict(), \"../Models/RecurrentNet.pt\")"
   ]
  },
  {
   "cell_type": "markdown",
   "id": "0a552514",
   "metadata": {
    "papermill": {
     "duration": 0.032084,
     "end_time": "2023-10-22T09:44:41.259926",
     "exception": false,
     "start_time": "2023-10-22T09:44:41.227842",
     "status": "completed"
    },
    "tags": []
   },
   "source": [
    "## Inference"
   ]
  },
  {
   "cell_type": "code",
   "execution_count": 16,
   "metadata": {},
   "outputs": [],
   "source": [
    "from src import seq_interpreter\n",
    "\n",
    "interpreter = seq_interpreter.Main(parser)"
   ]
  },
  {
   "cell_type": "code",
   "execution_count": 17,
   "id": "628832db",
   "metadata": {
    "execution": {
     "iopub.execute_input": "2023-10-22T09:44:59.623391Z",
     "iopub.status.busy": "2023-10-22T09:44:59.623082Z",
     "iopub.status.idle": "2023-10-22T09:44:59.631502Z",
     "shell.execute_reply": "2023-10-22T09:44:59.630812Z"
    },
    "papermill": {
     "duration": 0.04346,
     "end_time": "2023-10-22T09:44:59.633392",
     "exception": false,
     "start_time": "2023-10-22T09:44:59.589932",
     "status": "completed"
    },
    "tags": []
   },
   "outputs": [],
   "source": [
    "def generate_sequence(temperature, max_length):\n",
    "    model.eval()\n",
    "    with torch.inference_mode():\n",
    "        x = torch.zeros((1, max_length + 2), dtype=torch.long, device=device)\n",
    "        # The start of sequence token\n",
    "        x[:, 0] = VOCAB_SIZE - 2\n",
    "        \n",
    "        for i in range(max_length):\n",
    "            y_pred = model(x[:, : i + 1])\n",
    "            y_pred = y_pred[:, i]\n",
    "            # Zero out the probability for the same as the previous chord\n",
    "            y_pred[:, x[:, i]] = -torch.inf\n",
    "            # Sample from the distribution\n",
    "            y_pred = F.softmax(y_pred, dim=1) ** (1 / temperature)\n",
    "            x[:, i + 1] = y_pred.multinomial(1).item()\n",
    "            if x[:, i + 1] == VOCAB_SIZE - 1:\n",
    "                break\n",
    "        if VOCAB_SIZE - 1 not in x:\n",
    "            x[:, -1] = VOCAB_SIZE - 1\n",
    "    return x[0, 1:]"
   ]
  },
  {
   "cell_type": "code",
   "execution_count": 18,
   "id": "0743b325",
   "metadata": {
    "execution": {
     "iopub.execute_input": "2023-10-22T09:44:59.843304Z",
     "iopub.status.busy": "2023-10-22T09:44:59.843007Z",
     "iopub.status.idle": "2023-10-22T09:45:00.057549Z",
     "shell.execute_reply": "2023-10-22T09:45:00.056569Z"
    },
    "papermill": {
     "duration": 0.249874,
     "end_time": "2023-10-22T09:45:00.059658",
     "exception": false,
     "start_time": "2023-10-22T09:44:59.809784",
     "status": "completed"
    },
    "tags": []
   },
   "outputs": [
    {
     "name": "stdout",
     "output_type": "stream",
     "text": [
      "F# | B | F# | F#m | B | F# | C# | B | F# | D#m | B7 | F# | B | F# | C#7 | F# | B | F# | C#7 | F# | B | F# | F#7 | B | F# | G#7 | F# | B | F# | B | F# | C#7 | B | F# | B | F# | B | F# | B | F# | B | F# | G#7 | C# | B | F# | C#7 | F# | B | F# | B | F#\n"
     ]
    },
    {
     "data": {
      "text/html": [
       "\n",
       "                <div id=\"midiPlayerDiv268\"></div>\n",
       "                <link rel=\"stylesheet\" href=\"https://cuthbertLab.github.io/music21j/css/m21.css\">\n",
       "                \n",
       "                <script>\n",
       "                require.config({\n",
       "                    paths: {\n",
       "                        'music21': 'https://cuthbertLab.github.io/music21j/releases/music21.debug',\n",
       "                    }\n",
       "                });\n",
       "                require(['music21'], function(music21) {\n",
       "                    mp = new music21.miditools.MidiPlayer();\n",
       "                    mp.addPlayer(\"#midiPlayerDiv268\");\n",
       "                    mp.base64Load(\"data:audio/midi;base64,TVRoZAAAAAYAAQACBABNVHJrAAAAFAD/UQMHoSAA/1gEBAIYCIgA/y8ATVRyawAABWIA/wMAAOAAQIgAkEJaAJBGWgCQSVqQAIBCAACARgAAgEkAAJBHWgCQS1oAkE5akACARwAAgEsAAIBOAACQQloAkEZaAJBJWpAAgEIAAIBGAACASQAAkEJaAJBFWgCQSVqQAIBCAACARQAAgEkAAJBHWgCQS1oAkE5akACARwAAgEsAAIBOAACQQloAkEZaAJBJWpAAgEIAAIBGAACASQAAkD1aAJBBWgCQRFqQAIA9AACAQQAAgEQAAJBHWgCQS1oAkE5akACARwAAgEsAAIBOAACQQloAkEZaAJBJWpAAgEIAAIBGAACASQAAkD9aAJBCWgCQRlqQAIA/AACAQgAAgEYAAJBHWgCQS1oAkE5aAJBRWpAAgEcAAIBLAACATgAAgFEAAJBCWgCQRloAkElakACAQgAAgEYAAIBJAACQR1oAkEtaAJBOWpAAgEcAAIBLAACATgAAkEJaAJBGWgCQSVqQAIBCAACARgAAgEkAAJA9WgCQQVoAkERaAJBHWpAAgD0AAIBBAACARAAAgEcAAJBCWgCQRloAkElakACAQgAAgEYAAIBJAACQR1oAkEtaAJBOWpAAgEcAAIBLAACATgAAkEJaAJBGWgCQSVqQAIBCAACARgAAgEkAAJA9WgCQQVoAkERaAJBHWpAAgD0AAIBBAACARAAAgEcAAJBCWgCQRloAkElakACAQgAAgEYAAIBJAACQR1oAkEtaAJBOWpAAgEcAAIBLAACATgAAkEJaAJBGWgCQSVqQAIBCAACARgAAgEkAAJBCWgCQRloAkElaAJBMWpAAgEIAAIBGAACASQAAgEwAAJBHWgCQS1oAkE5akACARwAAgEsAAIBOAACQQloAkEZaAJBJWpAAgEIAAIBGAACASQAAkERaAJBIWgCQS1oAkE5akACARAAAgEgAAIBLAACATgAAkEJaAJBGWgCQSVqQAIBCAACARgAAgEkAAJBHWgCQS1oAkE5akACARwAAgEsAAIBOAACQQloAkEZaAJBJWpAAgEIAAIBGAACASQAAkEdaAJBLWgCQTlqQAIBHAACASwAAgE4AAJBCWgCQRloAkElakACAQgAAgEYAAIBJAACQPVoAkEFaAJBEWgCQR1qQAIA9AACAQQAAgEQAAIBHAACQR1oAkEtaAJBOWpAAgEcAAIBLAACATgAAkEJaAJBGWgCQSVqQAIBCAACARgAAgEkAAJBHWgCQS1oAkE5akACARwAAgEsAAIBOAACQQloAkEZaAJBJWpAAgEIAAIBGAACASQAAkEdaAJBLWgCQTlqQAIBHAACASwAAgE4AAJBCWgCQRloAkElakACAQgAAgEYAAIBJAACQR1oAkEtaAJBOWpAAgEcAAIBLAACATgAAkEJaAJBGWgCQSVqQAIBCAACARgAAgEkAAJBHWgCQS1oAkE5akACARwAAgEsAAIBOAACQQloAkEZaAJBJWpAAgEIAAIBGAACASQAAkERaAJBIWgCQS1oAkE5akACARAAAgEgAAIBLAACATgAAkD1aAJBBWgCQRFqQAIA9AACAQQAAgEQAAJBHWgCQS1oAkE5akACARwAAgEsAAIBOAACQQloAkEZaAJBJWpAAgEIAAIBGAACASQAAkD1aAJBBWgCQRFoAkEdakACAPQAAgEEAAIBEAACARwAAkEJaAJBGWgCQSVqQAIBCAACARgAAgEkAAJBHWgCQS1oAkE5akACARwAAgEsAAIBOAACQQloAkEZaAJBJWpAAgEIAAIBGAACASQAAkEdaAJBLWgCQTlqQAIBHAACASwAAgE4AAJBCWgCQRloAkElakACAQgAAgEYAAIBJAIgA/y8A\");\n",
       "                });\n",
       "                </script>"
      ],
      "text/plain": [
       "<IPython.core.display.HTML object>"
      ]
     },
     "metadata": {},
     "output_type": "display_data"
    }
   ],
   "source": [
    "seq = generate_sequence(1.0, 254)\n",
    "print(interpreter.token_seq_to_chords(seq))\n",
    "interpreter.play_seq(seq)"
   ]
  }
 ],
 "metadata": {
  "kernelspec": {
   "display_name": "Python 3",
   "language": "python",
   "name": "python3"
  },
  "language_info": {
   "codemirror_mode": {
    "name": "ipython",
    "version": 3
   },
   "file_extension": ".py",
   "mimetype": "text/x-python",
   "name": "python",
   "nbconvert_exporter": "python",
   "pygments_lexer": "ipython3",
   "version": "3.9.16"
  },
  "papermill": {
   "default_parameters": {},
   "duration": 485.734986,
   "end_time": "2023-10-22T09:45:03.637558",
   "environment_variables": {},
   "exception": null,
   "input_path": "__notebook__.ipynb",
   "output_path": "__notebook__.ipynb",
   "parameters": {},
   "start_time": "2023-10-22T09:36:57.902572",
   "version": "2.4.0"
  }
 },
 "nbformat": 4,
 "nbformat_minor": 5
}
