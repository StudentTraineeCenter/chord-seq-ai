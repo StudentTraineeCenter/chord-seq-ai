{
 "cells": [
  {
   "cell_type": "markdown",
   "id": "ff23d7cd",
   "metadata": {
    "papermill": {
     "duration": 0.009222,
     "end_time": "2023-10-22T09:37:01.223704",
     "exception": false,
     "start_time": "2023-10-22T09:37:01.214482",
     "status": "completed"
    },
    "tags": []
   },
   "source": [
    "# Predicting Next Chords Using a Recurrent Network"
   ]
  },
  {
   "cell_type": "code",
   "execution_count": 1,
   "id": "21d12eec",
   "metadata": {
    "execution": {
     "iopub.execute_input": "2023-10-22T09:37:18.267440Z",
     "iopub.status.busy": "2023-10-22T09:37:18.267107Z",
     "iopub.status.idle": "2023-10-22T09:37:23.967360Z",
     "shell.execute_reply": "2023-10-22T09:37:23.966466Z"
    },
    "papermill": {
     "duration": 5.713591,
     "end_time": "2023-10-22T09:37:23.969642",
     "exception": false,
     "start_time": "2023-10-22T09:37:18.256051",
     "status": "completed"
    },
    "tags": []
   },
   "outputs": [],
   "source": [
    "import json\n",
    "import numpy as np\n",
    "import pandas as pd\n",
    "import matplotlib.pyplot as plt\n",
    "import seaborn as sns\n",
    "\n",
    "import torch\n",
    "import torch.nn as nn\n",
    "import torch.nn.functional as F\n",
    "from torch.utils.data import Dataset, DataLoader\n",
    "from torch.utils.data.dataset import random_split\n",
    "from torchinfo import summary\n",
    "\n",
    "from src import chord_parser"
   ]
  },
  {
   "cell_type": "code",
   "execution_count": 2,
   "id": "262282c3",
   "metadata": {
    "execution": {
     "iopub.execute_input": "2023-10-22T09:37:24.058451Z",
     "iopub.status.busy": "2023-10-22T09:37:24.058166Z",
     "iopub.status.idle": "2023-10-22T09:37:27.547550Z",
     "shell.execute_reply": "2023-10-22T09:37:27.546794Z"
    },
    "papermill": {
     "duration": 3.502906,
     "end_time": "2023-10-22T09:37:27.550017",
     "exception": false,
     "start_time": "2023-10-22T09:37:24.047111",
     "status": "completed"
    },
    "tags": []
   },
   "outputs": [],
   "source": [
    "parser = chord_parser.Main()"
   ]
  },
  {
   "cell_type": "code",
   "execution_count": 3,
   "id": "a90121c0",
   "metadata": {
    "execution": {
     "iopub.execute_input": "2023-10-22T09:37:27.571669Z",
     "iopub.status.busy": "2023-10-22T09:37:27.571363Z",
     "iopub.status.idle": "2023-10-22T09:37:29.133881Z",
     "shell.execute_reply": "2023-10-22T09:37:29.132782Z"
    },
    "papermill": {
     "duration": 1.57568,
     "end_time": "2023-10-22T09:37:29.136173",
     "exception": false,
     "start_time": "2023-10-22T09:37:27.560493",
     "status": "completed"
    },
    "tags": []
   },
   "outputs": [
    {
     "data": {
      "text/html": [
       "<div>\n",
       "<style scoped>\n",
       "    .dataframe tbody tr th:only-of-type {\n",
       "        vertical-align: middle;\n",
       "    }\n",
       "\n",
       "    .dataframe tbody tr th {\n",
       "        vertical-align: top;\n",
       "    }\n",
       "\n",
       "    .dataframe thead th {\n",
       "        text-align: right;\n",
       "    }\n",
       "</style>\n",
       "<table border=\"1\" class=\"dataframe\">\n",
       "  <thead>\n",
       "    <tr style=\"text-align: right;\">\n",
       "      <th></th>\n",
       "      <th>url</th>\n",
       "      <th>title</th>\n",
       "      <th>artist</th>\n",
       "      <th>decade</th>\n",
       "      <th>genre</th>\n",
       "      <th>ratings</th>\n",
       "      <th>stars</th>\n",
       "      <th>chords</th>\n",
       "    </tr>\n",
       "  </thead>\n",
       "  <tbody>\n",
       "    <tr>\n",
       "      <th>0</th>\n",
       "      <td>https://tabs.ultimate-guitar.com/tab/jeff-buck...</td>\n",
       "      <td>Hallelujah</td>\n",
       "      <td>Jeff Buckley</td>\n",
       "      <td>1990</td>\n",
       "      <td>Rock|Folk</td>\n",
       "      <td>51639.0</td>\n",
       "      <td>5.0</td>\n",
       "      <td>[tensor(685), tensor(677), tensor(685), tensor...</td>\n",
       "    </tr>\n",
       "    <tr>\n",
       "      <th>1</th>\n",
       "      <td>https://tabs.ultimate-guitar.com/tab/ed-sheera...</td>\n",
       "      <td>Perfect</td>\n",
       "      <td>Ed Sheeran</td>\n",
       "      <td>2010</td>\n",
       "      <td>Pop</td>\n",
       "      <td>44194.0</td>\n",
       "      <td>5.0</td>\n",
       "      <td>[tensor(162), tensor(34), tensor(685), tensor(...</td>\n",
       "    </tr>\n",
       "    <tr>\n",
       "      <th>2</th>\n",
       "      <td>https://tabs.ultimate-guitar.com/tab/elvis-pre...</td>\n",
       "      <td>Cant Help Falling In Love</td>\n",
       "      <td>Elvis Presley</td>\n",
       "      <td>1960</td>\n",
       "      <td>Soundtrack|R&amp;B, Funk &amp; Soul</td>\n",
       "      <td>30059.0</td>\n",
       "      <td>5.0</td>\n",
       "      <td>[tensor(685), tensor(162), tensor(677), tensor...</td>\n",
       "    </tr>\n",
       "    <tr>\n",
       "      <th>3</th>\n",
       "      <td>https://tabs.ultimate-guitar.com/tab/eagles/ho...</td>\n",
       "      <td>Hotel California</td>\n",
       "      <td>Eagles</td>\n",
       "      <td>1970</td>\n",
       "      <td>Rock</td>\n",
       "      <td>28670.0</td>\n",
       "      <td>5.0</td>\n",
       "      <td>[tensor(173), tensor(422), tensor(397), tensor...</td>\n",
       "    </tr>\n",
       "    <tr>\n",
       "      <th>4</th>\n",
       "      <td>https://tabs.ultimate-guitar.com/tab/radiohead...</td>\n",
       "      <td>Creep</td>\n",
       "      <td>Radiohead</td>\n",
       "      <td>1990</td>\n",
       "      <td>Rock</td>\n",
       "      <td>28606.0</td>\n",
       "      <td>5.0</td>\n",
       "      <td>[tensor(162), tensor(83), tensor(685), tensor(...</td>\n",
       "    </tr>\n",
       "  </tbody>\n",
       "</table>\n",
       "</div>"
      ],
      "text/plain": [
       "                                                 url  \\\n",
       "0  https://tabs.ultimate-guitar.com/tab/jeff-buck...   \n",
       "1  https://tabs.ultimate-guitar.com/tab/ed-sheera...   \n",
       "2  https://tabs.ultimate-guitar.com/tab/elvis-pre...   \n",
       "3  https://tabs.ultimate-guitar.com/tab/eagles/ho...   \n",
       "4  https://tabs.ultimate-guitar.com/tab/radiohead...   \n",
       "\n",
       "                       title         artist  decade  \\\n",
       "0                 Hallelujah   Jeff Buckley    1990   \n",
       "1                    Perfect     Ed Sheeran    2010   \n",
       "2  Cant Help Falling In Love  Elvis Presley    1960   \n",
       "3           Hotel California         Eagles    1970   \n",
       "4                      Creep      Radiohead    1990   \n",
       "\n",
       "                         genre  ratings  stars  \\\n",
       "0                    Rock|Folk  51639.0    5.0   \n",
       "1                          Pop  44194.0    5.0   \n",
       "2  Soundtrack|R&B, Funk & Soul  30059.0    5.0   \n",
       "3                         Rock  28670.0    5.0   \n",
       "4                         Rock  28606.0    5.0   \n",
       "\n",
       "                                              chords  \n",
       "0  [tensor(685), tensor(677), tensor(685), tensor...  \n",
       "1  [tensor(162), tensor(34), tensor(685), tensor(...  \n",
       "2  [tensor(685), tensor(162), tensor(677), tensor...  \n",
       "3  [tensor(173), tensor(422), tensor(397), tensor...  \n",
       "4  [tensor(162), tensor(83), tensor(685), tensor(...  "
      ]
     },
     "execution_count": 3,
     "metadata": {},
     "output_type": "execute_result"
    }
   ],
   "source": [
    "data = pd.read_csv('../Data/data_tokenized_pitch_class.csv')\n",
    "data[\"chords\"] = data[\"chords\"].apply(lambda x: torch.tensor(json.loads(x)))\n",
    "data.head()"
   ]
  },
  {
   "cell_type": "code",
   "execution_count": 4,
   "id": "d81f496a",
   "metadata": {
    "execution": {
     "iopub.execute_input": "2023-10-22T09:37:29.159265Z",
     "iopub.status.busy": "2023-10-22T09:37:29.158958Z",
     "iopub.status.idle": "2023-10-22T09:37:29.180410Z",
     "shell.execute_reply": "2023-10-22T09:37:29.179711Z"
    },
    "papermill": {
     "duration": 0.03486,
     "end_time": "2023-10-22T09:37:29.182308",
     "exception": false,
     "start_time": "2023-10-22T09:37:29.147448",
     "status": "completed"
    },
    "tags": []
   },
   "outputs": [],
   "source": [
    "augmentation_map = torch.tensor(np.load(\"../Data/augmentation_map.npy\", allow_pickle=True))\n",
    "\n",
    "with open(\"../Data/token_to_chord.json\", \"r\") as fp:\n",
    "    token_to_chord = json.load(fp)\n",
    "# Convert the dictionary keys to integers\n",
    "token_to_chord = {int(k): v for k, v in token_to_chord.items()}"
   ]
  },
  {
   "cell_type": "code",
   "execution_count": 5,
   "id": "4c608b5b",
   "metadata": {
    "execution": {
     "iopub.execute_input": "2023-10-22T09:37:29.205563Z",
     "iopub.status.busy": "2023-10-22T09:37:29.205277Z",
     "iopub.status.idle": "2023-10-22T09:37:29.211002Z",
     "shell.execute_reply": "2023-10-22T09:37:29.210209Z"
    },
    "papermill": {
     "duration": 0.02013,
     "end_time": "2023-10-22T09:37:29.212790",
     "exception": false,
     "start_time": "2023-10-22T09:37:29.192660",
     "status": "completed"
    },
    "tags": []
   },
   "outputs": [
    {
     "data": {
      "text/plain": [
       "1035"
      ]
     },
     "execution_count": 5,
     "metadata": {},
     "output_type": "execute_result"
    }
   ],
   "source": [
    "VOCAB_SIZE = len(token_to_chord) + 2 # Start and end of sequence tokens\n",
    "VOCAB_SIZE"
   ]
  },
  {
   "cell_type": "markdown",
   "id": "27396398",
   "metadata": {
    "papermill": {
     "duration": 0.010089,
     "end_time": "2023-10-22T09:37:29.232995",
     "exception": false,
     "start_time": "2023-10-22T09:37:29.222906",
     "status": "completed"
    },
    "tags": []
   },
   "source": [
    "## Dataset"
   ]
  },
  {
   "cell_type": "code",
   "execution_count": 6,
   "id": "54d333fa",
   "metadata": {
    "execution": {
     "iopub.execute_input": "2023-10-22T09:37:29.254878Z",
     "iopub.status.busy": "2023-10-22T09:37:29.254171Z",
     "iopub.status.idle": "2023-10-22T09:37:29.261621Z",
     "shell.execute_reply": "2023-10-22T09:37:29.260810Z"
    },
    "papermill": {
     "duration": 0.020385,
     "end_time": "2023-10-22T09:37:29.263464",
     "exception": false,
     "start_time": "2023-10-22T09:37:29.243079",
     "status": "completed"
    },
    "tags": []
   },
   "outputs": [],
   "source": [
    "class ChordDataset(Dataset):\n",
    "    def __init__(self, data):\n",
    "        self.data = data\n",
    "\n",
    "    def augment(self, chords):\n",
    "        \"\"\"Change the root note of the chords by a random amount\"\"\"\n",
    "        move_by = torch.randint(0, 12, [1]).item()\n",
    "        return augmentation_map[chords, move_by]\n",
    "\n",
    "    def pad(self, chords):\n",
    "        \"\"\"Pad the input tensor of shape [n] into shape [256] with zeros and special tokens\"\"\"\n",
    "        out = torch.zeros((256))\n",
    "        out[0] = VOCAB_SIZE - 2 # Start of sequence token\n",
    "        out[1 : 1 + len(chords)] = chords\n",
    "        out[1 + len(chords)] = VOCAB_SIZE - 1 # End of sequence token\n",
    "        return out\n",
    "\n",
    "    def __getitem__(self, index):\n",
    "        x = self.data.iloc[index][\"chords\"]\n",
    "        x = self.augment(x)\n",
    "        return self.pad(x).long()\n",
    "\n",
    "    def __len__(self):\n",
    "        return len(self.data)"
   ]
  },
  {
   "cell_type": "code",
   "execution_count": 7,
   "id": "3c4204fd",
   "metadata": {
    "execution": {
     "iopub.execute_input": "2023-10-22T09:37:29.285390Z",
     "iopub.status.busy": "2023-10-22T09:37:29.285112Z",
     "iopub.status.idle": "2023-10-22T09:37:29.302863Z",
     "shell.execute_reply": "2023-10-22T09:37:29.301983Z"
    },
    "papermill": {
     "duration": 0.030928,
     "end_time": "2023-10-22T09:37:29.304842",
     "exception": false,
     "start_time": "2023-10-22T09:37:29.273914",
     "status": "completed"
    },
    "tags": []
   },
   "outputs": [],
   "source": [
    "torch.manual_seed(42)\n",
    "\n",
    "dataset = ChordDataset(data)\n",
    "\n",
    "train_size = np.rint(len(dataset) * 0.8).astype(int)\n",
    "train_data, test_data = random_split(dataset, [train_size, len(dataset) - train_size])"
   ]
  },
  {
   "cell_type": "code",
   "execution_count": 8,
   "id": "02c95ba1",
   "metadata": {
    "execution": {
     "iopub.execute_input": "2023-10-22T09:37:29.327346Z",
     "iopub.status.busy": "2023-10-22T09:37:29.326634Z",
     "iopub.status.idle": "2023-10-22T09:37:29.331400Z",
     "shell.execute_reply": "2023-10-22T09:37:29.330583Z"
    },
    "papermill": {
     "duration": 0.018239,
     "end_time": "2023-10-22T09:37:29.333318",
     "exception": false,
     "start_time": "2023-10-22T09:37:29.315079",
     "status": "completed"
    },
    "tags": []
   },
   "outputs": [],
   "source": [
    "# Define the dataloaders\n",
    "train_loader = DataLoader(train_data, batch_size=128, shuffle=True)\n",
    "test_loader = DataLoader(test_data, batch_size=128, shuffle=True)"
   ]
  },
  {
   "cell_type": "markdown",
   "id": "62bc98ba",
   "metadata": {
    "papermill": {
     "duration": 0.010021,
     "end_time": "2023-10-22T09:37:29.353691",
     "exception": false,
     "start_time": "2023-10-22T09:37:29.343670",
     "status": "completed"
    },
    "tags": []
   },
   "source": [
    "## Model"
   ]
  },
  {
   "cell_type": "code",
   "execution_count": 9,
   "id": "86923785",
   "metadata": {
    "execution": {
     "iopub.execute_input": "2023-10-22T09:37:29.375721Z",
     "iopub.status.busy": "2023-10-22T09:37:29.375259Z",
     "iopub.status.idle": "2023-10-22T09:37:29.382244Z",
     "shell.execute_reply": "2023-10-22T09:37:29.381396Z"
    },
    "papermill": {
     "duration": 0.020079,
     "end_time": "2023-10-22T09:37:29.384116",
     "exception": false,
     "start_time": "2023-10-22T09:37:29.364037",
     "status": "completed"
    },
    "tags": []
   },
   "outputs": [],
   "source": [
    "class RecurrentNet(nn.Module):\n",
    "    def __init__(self):\n",
    "        super().__init__()\n",
    "        self.chord_embeddings = nn.Embedding(VOCAB_SIZE, 96)\n",
    "        self.gru = nn.GRU(96, 96, num_layers=3, batch_first=True)\n",
    "        self.mlp = nn.Sequential(\n",
    "            nn.Linear(96, 96),\n",
    "            nn.ReLU(),\n",
    "            nn.Linear(96, VOCAB_SIZE),\n",
    "        )\n",
    "        \n",
    "    def forward(self, x):\n",
    "        x = self.chord_embeddings(x)\n",
    "        x, _ = self.gru(x)\n",
    "        return self.mlp(x)\n",
    "    \n",
    "    def predict_next(self, x):\n",
    "        x = self.chord_embeddings(x)\n",
    "        x, _ = self.gru(x)\n",
    "        return self.mlp(x[:, -1])"
   ]
  },
  {
   "cell_type": "code",
   "execution_count": 10,
   "id": "80e7decd",
   "metadata": {
    "execution": {
     "iopub.execute_input": "2023-10-22T09:37:29.406144Z",
     "iopub.status.busy": "2023-10-22T09:37:29.405426Z",
     "iopub.status.idle": "2023-10-22T09:37:34.108961Z",
     "shell.execute_reply": "2023-10-22T09:37:34.108152Z"
    },
    "papermill": {
     "duration": 4.717125,
     "end_time": "2023-10-22T09:37:34.111359",
     "exception": false,
     "start_time": "2023-10-22T09:37:29.394234",
     "status": "completed"
    },
    "tags": []
   },
   "outputs": [],
   "source": [
    "device = torch.device(\"cuda\" if torch.cuda.is_available() else \"cpu\")\n",
    "model = RecurrentNet().to(device)"
   ]
  },
  {
   "cell_type": "code",
   "execution_count": 11,
   "id": "d9fb85b5",
   "metadata": {
    "execution": {
     "iopub.execute_input": "2023-10-22T09:37:34.134075Z",
     "iopub.status.busy": "2023-10-22T09:37:34.133764Z",
     "iopub.status.idle": "2023-10-22T09:37:34.376233Z",
     "shell.execute_reply": "2023-10-22T09:37:34.375187Z"
    },
    "papermill": {
     "duration": 0.256861,
     "end_time": "2023-10-22T09:37:34.379132",
     "exception": false,
     "start_time": "2023-10-22T09:37:34.122271",
     "status": "completed"
    },
    "tags": []
   },
   "outputs": [
    {
     "data": {
      "text/plain": [
       "==========================================================================================\n",
       "Layer (type:depth-idx)                   Output Shape              Param #\n",
       "==========================================================================================\n",
       "RecurrentNet                             [1, 256, 1035]            --\n",
       "├─Embedding: 1-1                         [1, 256, 96]              99,360\n",
       "├─GRU: 1-2                               [1, 256, 96]              167,616\n",
       "├─Sequential: 1-3                        [1, 256, 1035]            --\n",
       "│    └─Linear: 2-1                       [1, 256, 96]              9,312\n",
       "│    └─ReLU: 2-2                         [1, 256, 96]              --\n",
       "│    └─Linear: 2-3                       [1, 256, 1035]            100,395\n",
       "==========================================================================================\n",
       "Total params: 376,683\n",
       "Trainable params: 376,683\n",
       "Non-trainable params: 0\n",
       "Total mult-adds (M): 43.12\n",
       "==========================================================================================\n",
       "Input size (MB): 0.00\n",
       "Forward/backward pass size (MB): 2.71\n",
       "Params size (MB): 1.51\n",
       "Estimated Total Size (MB): 4.22\n",
       "=========================================================================================="
      ]
     },
     "execution_count": 11,
     "metadata": {},
     "output_type": "execute_result"
    }
   ],
   "source": [
    "input_tensor = torch.zeros((1, 256), dtype=torch.long, device=device)\n",
    "summary(model, input_data=input_tensor, device=device)"
   ]
  },
  {
   "cell_type": "markdown",
   "id": "47ce84c8",
   "metadata": {
    "papermill": {
     "duration": 0.010819,
     "end_time": "2023-10-22T09:37:34.404155",
     "exception": false,
     "start_time": "2023-10-22T09:37:34.393336",
     "status": "completed"
    },
    "tags": []
   },
   "source": [
    "## Trainer"
   ]
  },
  {
   "cell_type": "code",
   "execution_count": 12,
   "id": "b643e379",
   "metadata": {
    "execution": {
     "iopub.execute_input": "2023-10-22T09:37:34.428659Z",
     "iopub.status.busy": "2023-10-22T09:37:34.428320Z",
     "iopub.status.idle": "2023-10-22T09:37:34.468046Z",
     "shell.execute_reply": "2023-10-22T09:37:34.467149Z"
    },
    "papermill": {
     "duration": 0.054769,
     "end_time": "2023-10-22T09:37:34.469964",
     "exception": false,
     "start_time": "2023-10-22T09:37:34.415195",
     "status": "completed"
    },
    "tags": []
   },
   "outputs": [],
   "source": [
    "class Trainer():\n",
    "    def __init__(self, epochs, train_loader, test_loader, model, optimizer, device, lr_scheduler):\n",
    "        self.epochs = epochs\n",
    "        self.train_loader = train_loader\n",
    "        self.test_loader = test_loader\n",
    "        self.model = model\n",
    "        self.optimizer = optimizer\n",
    "        self.device = device\n",
    "        self.print_every = 32\n",
    "        self.lr_scheduler = lr_scheduler\n",
    "        \n",
    "        self.step_data = {\"train_losses\": [], \"test_losses\": [], \"train_accuracies\": [], \"test_accuracies\": []}\n",
    "        self.epoch_data = {\"train_losses\": [], \"test_losses\": [], \"train_accuracies\": [], \"test_accuracies\": []}\n",
    "    \n",
    "\n",
    "    def loss_mask(self, y_pred, x):\n",
    "        \"\"\"Get the mask for the loss function, so that the loss is not calculated for the padded elements\"\"\"\n",
    "        eos_index = torch.argmax((x == VOCAB_SIZE - 1).float(), dim=1)\n",
    "        range_tensor = torch.arange(y_pred.shape[1]).unsqueeze(0).expand(y_pred.shape[0], -1).to(self.device)\n",
    "        mask = range_tensor <= eos_index.unsqueeze(1)\n",
    "        return mask\n",
    "    \n",
    "    def masked_accuracy(self, y_pred, x):\n",
    "        \"\"\"Calculate the accuracy of the model only for the elements of the sequence\"\"\"\n",
    "        y_pred, x = y_pred[:, :-1], x[:, 1:]\n",
    "        eos_index = torch.argmax((x == VOCAB_SIZE - 1).float(), dim=1)\n",
    "        range_tensor = torch.arange(y_pred.shape[1]).unsqueeze(0).expand(y_pred.shape[0], -1).to(self.device)\n",
    "        # EOS is not included in the accuracy calculation\n",
    "        mask = range_tensor < eos_index.unsqueeze(1)\n",
    "        valid_elements = torch.sum(mask.float())\n",
    "\n",
    "        same = torch.argmax(y_pred, dim=2) == x\n",
    "            \n",
    "        return torch.sum(same.float() * mask.float()) / valid_elements\n",
    "    \n",
    "    def masked_cross_entropy(self, logits, target, mask):\n",
    "        \"\"\"\n",
    "        logits: Predictions from the model, of shape (batch_size, sequence_length, vocab_size)\n",
    "        target: Ground truth labels, of shape (batch_size, sequence_length)\n",
    "        mask: Binary mask indicating the non-padded parts, of shape (batch_size, sequence_length)\n",
    "        \"\"\"\n",
    "\n",
    "        # Compute the raw CrossEntropyLoss\n",
    "        loss = nn.CrossEntropyLoss(reduction='none')(logits.transpose(1, 2), target)\n",
    "\n",
    "        # Apply the mask to the loss\n",
    "        masked_loss = loss * mask.float()\n",
    "\n",
    "        # Compute the mean loss over non-padded parts\n",
    "        final_loss = masked_loss.sum() / mask.float().sum()\n",
    "\n",
    "        return final_loss\n",
    "    \n",
    "    def train_step(self):\n",
    "        self.model.train()\n",
    "        for i, x in enumerate(self.train_loader):\n",
    "            x = x.to(self.device)\n",
    "            y_pred = self.model(x)\n",
    "            mask = self.loss_mask(y_pred, x)\n",
    "            \n",
    "            loss = self.masked_cross_entropy(y_pred[:, :-1], x[:, 1:], mask[:, :-1])\n",
    "            self.step_data[\"train_losses\"].append(loss.item())\n",
    "            \n",
    "            self.step_data[\"train_accuracies\"].append(self.masked_accuracy(y_pred, x).item())\n",
    "\n",
    "            if i % self.print_every == self.print_every - 1:\n",
    "                print(f\"Batch {i + 1}/{len(self.train_loader)}, Loss: {loss.item():.4f}, Accuracy: {self.step_data['train_accuracies'][-1]:.4f}\")\n",
    "                            \n",
    "            self.optimizer.zero_grad()\n",
    "            loss.backward()\n",
    "            self.optimizer.step()\n",
    "            \n",
    "        self.epoch_data[\"train_losses\"].append(np.array(self.step_data[\"train_losses\"]).mean())\n",
    "        self.epoch_data[\"train_accuracies\"].append(np.array(self.step_data[\"train_accuracies\"]).mean())\n",
    "                   \n",
    "        \n",
    "    def eval_step(self):\n",
    "        self.model.eval()\n",
    "        for i, x in enumerate(self.test_loader):\n",
    "            x = x.to(self.device)\n",
    "            with torch.inference_mode():\n",
    "                y_pred = self.model(x)\n",
    "\n",
    "            mask = self.loss_mask(y_pred, x)            \n",
    "            loss = self.masked_cross_entropy(y_pred[:, :-1], x[:, 1:], mask[:, :-1])\n",
    "            self.step_data[\"test_losses\"].append(loss.item())\n",
    "                        \n",
    "            self.step_data[\"test_accuracies\"].append(self.masked_accuracy(y_pred, x).item())\n",
    "        \n",
    "        self.epoch_data[\"test_losses\"].append(np.array(self.step_data[\"test_losses\"]).mean())\n",
    "        self.epoch_data[\"test_accuracies\"].append(np.array(self.step_data[\"test_accuracies\"]).mean())\n",
    "                    \n",
    "        \n",
    "        print(f\"Test Loss: {loss.item():.4f}, Accuracy: {self.step_data['test_accuracies'][-1]:.4f}\")\n",
    "\n",
    "    def plot(self):\n",
    "        fig, axes = plt.subplots(2, 1, figsize=(15, 15))\n",
    "        axes[0].set_title(\"Loss\")\n",
    "        sns.lineplot(x=range(len(self.epoch_data[\"train_losses\"])), y=self.epoch_data[\"train_losses\"], label=\"Train Loss\", ax=axes[0])\n",
    "        sns.lineplot(x=range(len(self.epoch_data[\"test_losses\"])), y=self.epoch_data[\"test_losses\"], label=\"Test Loss\", ax=axes[0])\n",
    "\n",
    "        axes[1].set_title(\"Total Accuracy\")\n",
    "        sns.lineplot(x=range(len(self.epoch_data[\"train_accuracies\"])), y=self.epoch_data[\"train_accuracies\"], label=\"Train Accuracy\", ax=axes[1])\n",
    "        sns.lineplot(x=range(len(self.epoch_data[\"test_accuracies\"])), y=self.epoch_data[\"test_accuracies\"], label=\"Test Accuracy\", ax=axes[1])\n",
    "        \n",
    "    \n",
    "    def init_metrics(self):\n",
    "        self.step_data = {\"train_losses\": [], \"test_losses\": [], \"train_accuracies\": [], \"test_accuracies\": []}\n",
    "\n",
    "        \n",
    "    def train(self):    \n",
    "        for epoch in range(self.epochs):\n",
    "            print(f\"Epoch {epoch + 1}/{self.epochs}\\n-------------------------------\")\n",
    "            self.init_metrics()\n",
    "            self.train_step()\n",
    "            self.eval_step()\n",
    "            self.lr_scheduler.step()\n",
    "            \n",
    "        self.plot()"
   ]
  },
  {
   "cell_type": "markdown",
   "id": "58b8436c",
   "metadata": {
    "papermill": {
     "duration": 0.010312,
     "end_time": "2023-10-22T09:37:34.490707",
     "exception": false,
     "start_time": "2023-10-22T09:37:34.480395",
     "status": "completed"
    },
    "tags": []
   },
   "source": [
    "## Training"
   ]
  },
  {
   "cell_type": "code",
   "execution_count": 13,
   "id": "2154ceba",
   "metadata": {
    "execution": {
     "iopub.execute_input": "2023-10-22T09:37:34.512544Z",
     "iopub.status.busy": "2023-10-22T09:37:34.512271Z",
     "iopub.status.idle": "2023-10-22T09:37:34.517938Z",
     "shell.execute_reply": "2023-10-22T09:37:34.517065Z"
    },
    "papermill": {
     "duration": 0.018714,
     "end_time": "2023-10-22T09:37:34.519771",
     "exception": false,
     "start_time": "2023-10-22T09:37:34.501057",
     "status": "completed"
    },
    "tags": []
   },
   "outputs": [],
   "source": [
    "optimizer = torch.optim.Adam(model.parameters(), lr=0.001)\n",
    "lr_scheduler = torch.optim.lr_scheduler.StepLR(optimizer, step_size=10, gamma=0.3)\n",
    "trainer = Trainer(\n",
    "    epochs=50,\n",
    "    train_loader=train_loader,\n",
    "    test_loader=test_loader,\n",
    "    model=model,\n",
    "    optimizer=optimizer,\n",
    "    device=device,\n",
    "    lr_scheduler=lr_scheduler,\n",
    ")"
   ]
  },
  {
   "cell_type": "code",
   "execution_count": 14,
   "id": "fc91b5c8",
   "metadata": {
    "execution": {
     "iopub.execute_input": "2023-10-22T09:37:34.541833Z",
     "iopub.status.busy": "2023-10-22T09:37:34.541325Z",
     "iopub.status.idle": "2023-10-22T09:44:41.110896Z",
     "shell.execute_reply": "2023-10-22T09:44:41.110091Z"
    },
    "papermill": {
     "duration": 426.585541,
     "end_time": "2023-10-22T09:44:41.115541",
     "exception": false,
     "start_time": "2023-10-22T09:37:34.530000",
     "status": "completed"
    },
    "tags": []
   },
   "outputs": [
    {
     "name": "stdout",
     "output_type": "stream",
     "text": [
      "Epoch 1/50\n",
      "-------------------------------\n",
      "Batch 32/139, Loss: 4.0837, Accuracy: 0.0764\n",
      "Batch 64/139, Loss: 3.5093, Accuracy: 0.1481\n",
      "Batch 96/139, Loss: 3.2206, Accuracy: 0.2108\n",
      "Batch 128/139, Loss: 2.6723, Accuracy: 0.2286\n",
      "Test Loss: 2.9229, Accuracy: 0.1762\n",
      "Epoch 2/50\n",
      "-------------------------------\n",
      "Batch 32/139, Loss: 2.8886, Accuracy: 0.1856\n",
      "Batch 64/139, Loss: 2.6455, Accuracy: 0.2051\n",
      "Batch 96/139, Loss: 2.5586, Accuracy: 0.2068\n",
      "Batch 128/139, Loss: 2.5776, Accuracy: 0.2193\n",
      "Test Loss: 2.5283, Accuracy: 0.2232\n",
      "Epoch 3/50\n",
      "-------------------------------\n",
      "Batch 32/139, Loss: 2.4992, Accuracy: 0.2749\n",
      "Batch 64/139, Loss: 2.3833, Accuracy: 0.3068\n",
      "Batch 96/139, Loss: 2.2554, Accuracy: 0.3502\n",
      "Batch 128/139, Loss: 2.4801, Accuracy: 0.3547\n",
      "Test Loss: 2.2053, Accuracy: 0.3772\n",
      "Epoch 4/50\n",
      "-------------------------------\n",
      "Batch 32/139, Loss: 2.2244, Accuracy: 0.3804\n",
      "Batch 64/139, Loss: 2.0663, Accuracy: 0.4263\n",
      "Batch 96/139, Loss: 2.0868, Accuracy: 0.4363\n",
      "Batch 128/139, Loss: 1.8848, Accuracy: 0.4949\n",
      "Test Loss: 1.9521, Accuracy: 0.4499\n",
      "Epoch 5/50\n",
      "-------------------------------\n",
      "Batch 32/139, Loss: 1.9635, Accuracy: 0.4431\n",
      "Batch 64/139, Loss: 2.0491, Accuracy: 0.4364\n",
      "Batch 96/139, Loss: 1.8392, Accuracy: 0.5143\n",
      "Batch 128/139, Loss: 2.0202, Accuracy: 0.4827\n",
      "Test Loss: 1.8037, Accuracy: 0.4999\n",
      "Epoch 6/50\n",
      "-------------------------------\n",
      "Batch 32/139, Loss: 2.0212, Accuracy: 0.4566\n",
      "Batch 64/139, Loss: 2.0497, Accuracy: 0.4489\n",
      "Batch 96/139, Loss: 1.9634, Accuracy: 0.4826\n",
      "Batch 128/139, Loss: 1.8354, Accuracy: 0.4983\n",
      "Test Loss: 1.7311, Accuracy: 0.5148\n",
      "Epoch 7/50\n",
      "-------------------------------\n",
      "Batch 32/139, Loss: 1.8220, Accuracy: 0.5046\n",
      "Batch 64/139, Loss: 1.9602, Accuracy: 0.4678\n",
      "Batch 96/139, Loss: 1.8313, Accuracy: 0.4996\n",
      "Batch 128/139, Loss: 1.9145, Accuracy: 0.4694\n",
      "Test Loss: 1.8235, Accuracy: 0.5097\n",
      "Epoch 8/50\n",
      "-------------------------------\n",
      "Batch 32/139, Loss: 1.8452, Accuracy: 0.5235\n",
      "Batch 64/139, Loss: 1.8649, Accuracy: 0.4808\n",
      "Batch 96/139, Loss: 1.8519, Accuracy: 0.5084\n",
      "Batch 128/139, Loss: 1.7188, Accuracy: 0.5460\n",
      "Test Loss: 1.6091, Accuracy: 0.5662\n",
      "Epoch 9/50\n",
      "-------------------------------\n",
      "Batch 32/139, Loss: 1.6780, Accuracy: 0.5284\n",
      "Batch 64/139, Loss: 1.7241, Accuracy: 0.5315\n",
      "Batch 96/139, Loss: 1.6996, Accuracy: 0.5300\n",
      "Batch 128/139, Loss: 1.7726, Accuracy: 0.4964\n",
      "Test Loss: 1.8058, Accuracy: 0.5085\n",
      "Epoch 10/50\n",
      "-------------------------------\n",
      "Batch 32/139, Loss: 1.6261, Accuracy: 0.5500\n",
      "Batch 64/139, Loss: 1.7327, Accuracy: 0.5290\n",
      "Batch 96/139, Loss: 1.8083, Accuracy: 0.5130\n",
      "Batch 128/139, Loss: 1.7210, Accuracy: 0.5352\n",
      "Test Loss: 1.7890, Accuracy: 0.4923\n",
      "Epoch 11/50\n",
      "-------------------------------\n",
      "Batch 32/139, Loss: 1.6622, Accuracy: 0.5350\n",
      "Batch 64/139, Loss: 1.8454, Accuracy: 0.4971\n",
      "Batch 96/139, Loss: 1.7389, Accuracy: 0.5265\n",
      "Batch 128/139, Loss: 1.6274, Accuracy: 0.5507\n",
      "Test Loss: 1.4918, Accuracy: 0.5795\n",
      "Epoch 12/50\n",
      "-------------------------------\n",
      "Batch 32/139, Loss: 1.6226, Accuracy: 0.5637\n",
      "Batch 64/139, Loss: 1.5946, Accuracy: 0.5847\n",
      "Batch 96/139, Loss: 1.5653, Accuracy: 0.5759\n",
      "Batch 128/139, Loss: 1.6191, Accuracy: 0.5390\n",
      "Test Loss: 1.5100, Accuracy: 0.5817\n",
      "Epoch 13/50\n",
      "-------------------------------\n",
      "Batch 32/139, Loss: 1.6495, Accuracy: 0.5672\n",
      "Batch 64/139, Loss: 1.6388, Accuracy: 0.5685\n",
      "Batch 96/139, Loss: 1.6455, Accuracy: 0.5349\n",
      "Batch 128/139, Loss: 1.6325, Accuracy: 0.5404\n",
      "Test Loss: 1.4467, Accuracy: 0.5791\n",
      "Epoch 14/50\n",
      "-------------------------------\n",
      "Batch 32/139, Loss: 1.6616, Accuracy: 0.5426\n",
      "Batch 64/139, Loss: 1.6447, Accuracy: 0.5511\n",
      "Batch 96/139, Loss: 1.6263, Accuracy: 0.5410\n",
      "Batch 128/139, Loss: 1.6716, Accuracy: 0.5408\n",
      "Test Loss: 1.6655, Accuracy: 0.5632\n",
      "Epoch 15/50\n",
      "-------------------------------\n",
      "Batch 32/139, Loss: 1.7079, Accuracy: 0.5384\n",
      "Batch 64/139, Loss: 1.6356, Accuracy: 0.5617\n",
      "Batch 96/139, Loss: 1.6018, Accuracy: 0.5474\n",
      "Batch 128/139, Loss: 1.5508, Accuracy: 0.5720\n",
      "Test Loss: 1.6762, Accuracy: 0.5227\n",
      "Epoch 16/50\n",
      "-------------------------------\n",
      "Batch 32/139, Loss: 1.7328, Accuracy: 0.5311\n",
      "Batch 64/139, Loss: 1.5603, Accuracy: 0.5569\n",
      "Batch 96/139, Loss: 1.5699, Accuracy: 0.5575\n",
      "Batch 128/139, Loss: 1.6941, Accuracy: 0.5407\n",
      "Test Loss: 1.6493, Accuracy: 0.5602\n",
      "Epoch 17/50\n",
      "-------------------------------\n",
      "Batch 32/139, Loss: 1.6366, Accuracy: 0.5658\n",
      "Batch 64/139, Loss: 1.5742, Accuracy: 0.5499\n",
      "Batch 96/139, Loss: 1.6398, Accuracy: 0.5607\n",
      "Batch 128/139, Loss: 1.7090, Accuracy: 0.5457\n",
      "Test Loss: 1.7108, Accuracy: 0.5418\n",
      "Epoch 18/50\n",
      "-------------------------------\n",
      "Batch 32/139, Loss: 1.7010, Accuracy: 0.5317\n",
      "Batch 64/139, Loss: 1.4971, Accuracy: 0.5845\n",
      "Batch 96/139, Loss: 1.4331, Accuracy: 0.6142\n",
      "Batch 128/139, Loss: 1.5847, Accuracy: 0.5715\n",
      "Test Loss: 1.3382, Accuracy: 0.6299\n",
      "Epoch 19/50\n",
      "-------------------------------\n",
      "Batch 32/139, Loss: 1.5706, Accuracy: 0.5641\n",
      "Batch 64/139, Loss: 1.6580, Accuracy: 0.5464\n",
      "Batch 96/139, Loss: 1.6389, Accuracy: 0.5329\n",
      "Batch 128/139, Loss: 1.5491, Accuracy: 0.5716\n",
      "Test Loss: 1.5028, Accuracy: 0.5908\n",
      "Epoch 20/50\n",
      "-------------------------------\n",
      "Batch 32/139, Loss: 1.6167, Accuracy: 0.5504\n",
      "Batch 64/139, Loss: 1.6407, Accuracy: 0.5456\n",
      "Batch 96/139, Loss: 1.7346, Accuracy: 0.5155\n",
      "Batch 128/139, Loss: 1.6907, Accuracy: 0.5366\n",
      "Test Loss: 1.4176, Accuracy: 0.5969\n",
      "Epoch 21/50\n",
      "-------------------------------\n",
      "Batch 32/139, Loss: 1.6222, Accuracy: 0.5496\n",
      "Batch 64/139, Loss: 1.7147, Accuracy: 0.5275\n",
      "Batch 96/139, Loss: 1.7074, Accuracy: 0.5364\n",
      "Batch 128/139, Loss: 1.5181, Accuracy: 0.5760\n",
      "Test Loss: 1.6326, Accuracy: 0.5466\n",
      "Epoch 22/50\n",
      "-------------------------------\n",
      "Batch 32/139, Loss: 1.5658, Accuracy: 0.5833\n",
      "Batch 64/139, Loss: 1.5576, Accuracy: 0.5673\n",
      "Batch 96/139, Loss: 1.6345, Accuracy: 0.5433\n",
      "Batch 128/139, Loss: 1.7848, Accuracy: 0.5126\n",
      "Test Loss: 1.8104, Accuracy: 0.5175\n",
      "Epoch 23/50\n",
      "-------------------------------\n",
      "Batch 32/139, Loss: 1.6696, Accuracy: 0.5507\n",
      "Batch 64/139, Loss: 1.5510, Accuracy: 0.5792\n",
      "Batch 96/139, Loss: 1.6818, Accuracy: 0.5363\n",
      "Batch 128/139, Loss: 1.7369, Accuracy: 0.5329\n",
      "Test Loss: 1.4961, Accuracy: 0.5812\n",
      "Epoch 24/50\n",
      "-------------------------------\n",
      "Batch 32/139, Loss: 1.6670, Accuracy: 0.5411\n",
      "Batch 64/139, Loss: 1.4713, Accuracy: 0.5930\n",
      "Batch 96/139, Loss: 1.5926, Accuracy: 0.5667\n",
      "Batch 128/139, Loss: 1.6529, Accuracy: 0.5666\n",
      "Test Loss: 1.5841, Accuracy: 0.5801\n",
      "Epoch 25/50\n",
      "-------------------------------\n",
      "Batch 32/139, Loss: 1.6503, Accuracy: 0.5434\n",
      "Batch 64/139, Loss: 1.6068, Accuracy: 0.5466\n",
      "Batch 96/139, Loss: 1.6474, Accuracy: 0.5410\n",
      "Batch 128/139, Loss: 1.6783, Accuracy: 0.5614\n",
      "Test Loss: 1.4776, Accuracy: 0.5776\n",
      "Epoch 26/50\n",
      "-------------------------------\n",
      "Batch 32/139, Loss: 1.6902, Accuracy: 0.5499\n",
      "Batch 64/139, Loss: 1.6889, Accuracy: 0.5212\n",
      "Batch 96/139, Loss: 1.6382, Accuracy: 0.5301\n",
      "Batch 128/139, Loss: 1.6004, Accuracy: 0.5582\n",
      "Test Loss: 1.7686, Accuracy: 0.5249\n",
      "Epoch 27/50\n",
      "-------------------------------\n",
      "Batch 32/139, Loss: 1.5004, Accuracy: 0.5754\n",
      "Batch 64/139, Loss: 1.5648, Accuracy: 0.5598\n",
      "Batch 96/139, Loss: 1.5598, Accuracy: 0.5467\n",
      "Batch 128/139, Loss: 1.6889, Accuracy: 0.5305\n",
      "Test Loss: 1.6498, Accuracy: 0.5494\n",
      "Epoch 28/50\n",
      "-------------------------------\n",
      "Batch 32/139, Loss: 1.5881, Accuracy: 0.5624\n",
      "Batch 64/139, Loss: 1.6479, Accuracy: 0.5370\n",
      "Batch 96/139, Loss: 1.7232, Accuracy: 0.5202\n",
      "Batch 128/139, Loss: 1.6708, Accuracy: 0.5336\n",
      "Test Loss: 1.4767, Accuracy: 0.5810\n",
      "Epoch 29/50\n",
      "-------------------------------\n",
      "Batch 32/139, Loss: 1.5945, Accuracy: 0.5736\n",
      "Batch 64/139, Loss: 1.6199, Accuracy: 0.5420\n",
      "Batch 96/139, Loss: 1.4620, Accuracy: 0.5875\n",
      "Batch 128/139, Loss: 1.6214, Accuracy: 0.5548\n",
      "Test Loss: 1.6895, Accuracy: 0.5310\n",
      "Epoch 30/50\n",
      "-------------------------------\n",
      "Batch 32/139, Loss: 1.5515, Accuracy: 0.5595\n",
      "Batch 64/139, Loss: 1.4886, Accuracy: 0.5780\n",
      "Batch 96/139, Loss: 1.6524, Accuracy: 0.5431\n",
      "Batch 128/139, Loss: 1.6702, Accuracy: 0.5505\n",
      "Test Loss: 1.6753, Accuracy: 0.5516\n",
      "Epoch 31/50\n",
      "-------------------------------\n",
      "Batch 32/139, Loss: 1.5625, Accuracy: 0.5587\n",
      "Batch 64/139, Loss: 1.7229, Accuracy: 0.5340\n",
      "Batch 96/139, Loss: 1.7745, Accuracy: 0.5322\n",
      "Batch 128/139, Loss: 1.6171, Accuracy: 0.5439\n",
      "Test Loss: 1.6561, Accuracy: 0.5513\n",
      "Epoch 32/50\n",
      "-------------------------------\n",
      "Batch 32/139, Loss: 1.6768, Accuracy: 0.5543\n",
      "Batch 64/139, Loss: 1.4829, Accuracy: 0.5835\n",
      "Batch 96/139, Loss: 1.5542, Accuracy: 0.5768\n",
      "Batch 128/139, Loss: 1.6739, Accuracy: 0.5378\n",
      "Test Loss: 1.6415, Accuracy: 0.5341\n",
      "Epoch 33/50\n",
      "-------------------------------\n",
      "Batch 32/139, Loss: 1.3714, Accuracy: 0.6175\n",
      "Batch 64/139, Loss: 1.4842, Accuracy: 0.5966\n",
      "Batch 96/139, Loss: 1.7526, Accuracy: 0.5213\n",
      "Batch 128/139, Loss: 1.6397, Accuracy: 0.5479\n",
      "Test Loss: 1.3385, Accuracy: 0.6170\n",
      "Epoch 34/50\n",
      "-------------------------------\n",
      "Batch 32/139, Loss: 1.5663, Accuracy: 0.5689\n",
      "Batch 64/139, Loss: 1.7407, Accuracy: 0.5239\n",
      "Batch 96/139, Loss: 1.7608, Accuracy: 0.5379\n",
      "Batch 128/139, Loss: 1.5620, Accuracy: 0.5757\n",
      "Test Loss: 1.6924, Accuracy: 0.5497\n",
      "Epoch 35/50\n",
      "-------------------------------\n",
      "Batch 32/139, Loss: 1.5019, Accuracy: 0.5938\n",
      "Batch 64/139, Loss: 1.5904, Accuracy: 0.5546\n",
      "Batch 96/139, Loss: 1.5560, Accuracy: 0.5811\n",
      "Batch 128/139, Loss: 1.5094, Accuracy: 0.5844\n",
      "Test Loss: 1.6989, Accuracy: 0.5125\n",
      "Epoch 36/50\n",
      "-------------------------------\n",
      "Batch 32/139, Loss: 1.5046, Accuracy: 0.5764\n",
      "Batch 64/139, Loss: 1.6028, Accuracy: 0.5723\n",
      "Batch 96/139, Loss: 1.4717, Accuracy: 0.5935\n",
      "Batch 128/139, Loss: 1.5252, Accuracy: 0.5757\n",
      "Test Loss: 1.3646, Accuracy: 0.6269\n",
      "Epoch 37/50\n",
      "-------------------------------\n",
      "Batch 32/139, Loss: 1.5093, Accuracy: 0.5767\n",
      "Batch 64/139, Loss: 1.5945, Accuracy: 0.5549\n",
      "Batch 96/139, Loss: 1.6992, Accuracy: 0.5513\n",
      "Batch 128/139, Loss: 1.4457, Accuracy: 0.5907\n",
      "Test Loss: 1.4627, Accuracy: 0.5818\n",
      "Epoch 38/50\n",
      "-------------------------------\n",
      "Batch 32/139, Loss: 1.7390, Accuracy: 0.5306\n",
      "Batch 64/139, Loss: 1.4764, Accuracy: 0.5907\n",
      "Batch 96/139, Loss: 1.5205, Accuracy: 0.5863\n",
      "Batch 128/139, Loss: 1.5989, Accuracy: 0.5670\n",
      "Test Loss: 1.5459, Accuracy: 0.5674\n",
      "Epoch 39/50\n",
      "-------------------------------\n",
      "Batch 32/139, Loss: 1.6821, Accuracy: 0.5450\n",
      "Batch 64/139, Loss: 1.5074, Accuracy: 0.5598\n",
      "Batch 96/139, Loss: 1.4747, Accuracy: 0.5904\n",
      "Batch 128/139, Loss: 1.5128, Accuracy: 0.5815\n",
      "Test Loss: 1.5719, Accuracy: 0.5597\n",
      "Epoch 40/50\n",
      "-------------------------------\n",
      "Batch 32/139, Loss: 1.5845, Accuracy: 0.5436\n",
      "Batch 64/139, Loss: 1.6729, Accuracy: 0.5626\n",
      "Batch 96/139, Loss: 1.6203, Accuracy: 0.5631\n",
      "Batch 128/139, Loss: 1.5400, Accuracy: 0.5706\n",
      "Test Loss: 1.6492, Accuracy: 0.5430\n",
      "Epoch 41/50\n",
      "-------------------------------\n",
      "Batch 32/139, Loss: 1.5400, Accuracy: 0.5685\n",
      "Batch 64/139, Loss: 1.2926, Accuracy: 0.6415\n",
      "Batch 96/139, Loss: 1.4835, Accuracy: 0.5935\n",
      "Batch 128/139, Loss: 1.5778, Accuracy: 0.5674\n",
      "Test Loss: 1.5192, Accuracy: 0.5689\n",
      "Epoch 42/50\n",
      "-------------------------------\n",
      "Batch 32/139, Loss: 1.6667, Accuracy: 0.5485\n",
      "Batch 64/139, Loss: 1.6508, Accuracy: 0.5531\n",
      "Batch 96/139, Loss: 1.7426, Accuracy: 0.5247\n",
      "Batch 128/139, Loss: 1.5573, Accuracy: 0.5743\n",
      "Test Loss: 1.6499, Accuracy: 0.5476\n",
      "Epoch 43/50\n",
      "-------------------------------\n",
      "Batch 32/139, Loss: 1.6391, Accuracy: 0.5456\n",
      "Batch 64/139, Loss: 1.5386, Accuracy: 0.5868\n",
      "Batch 96/139, Loss: 1.4620, Accuracy: 0.5947\n",
      "Batch 128/139, Loss: 1.3690, Accuracy: 0.6211\n",
      "Test Loss: 1.4044, Accuracy: 0.6067\n",
      "Epoch 44/50\n",
      "-------------------------------\n",
      "Batch 32/139, Loss: 1.7379, Accuracy: 0.5371\n",
      "Batch 64/139, Loss: 1.5151, Accuracy: 0.5743\n",
      "Batch 96/139, Loss: 1.4482, Accuracy: 0.5941\n",
      "Batch 128/139, Loss: 1.6087, Accuracy: 0.5685\n",
      "Test Loss: 1.4965, Accuracy: 0.5747\n",
      "Epoch 45/50\n",
      "-------------------------------\n",
      "Batch 32/139, Loss: 1.5317, Accuracy: 0.5835\n",
      "Batch 64/139, Loss: 1.5091, Accuracy: 0.5759\n",
      "Batch 96/139, Loss: 1.4593, Accuracy: 0.5996\n",
      "Batch 128/139, Loss: 1.6771, Accuracy: 0.5334\n",
      "Test Loss: 1.6486, Accuracy: 0.5552\n",
      "Epoch 46/50\n",
      "-------------------------------\n",
      "Batch 32/139, Loss: 1.5974, Accuracy: 0.5571\n",
      "Batch 64/139, Loss: 1.5786, Accuracy: 0.5510\n",
      "Batch 96/139, Loss: 1.6016, Accuracy: 0.5528\n",
      "Batch 128/139, Loss: 1.5258, Accuracy: 0.5658\n",
      "Test Loss: 1.6032, Accuracy: 0.5294\n",
      "Epoch 47/50\n",
      "-------------------------------\n",
      "Batch 32/139, Loss: 1.6852, Accuracy: 0.5350\n",
      "Batch 64/139, Loss: 1.5924, Accuracy: 0.5486\n",
      "Batch 96/139, Loss: 1.4553, Accuracy: 0.5976\n",
      "Batch 128/139, Loss: 1.4718, Accuracy: 0.5906\n",
      "Test Loss: 1.4445, Accuracy: 0.6090\n",
      "Epoch 48/50\n",
      "-------------------------------\n",
      "Batch 32/139, Loss: 1.5640, Accuracy: 0.5397\n",
      "Batch 64/139, Loss: 1.4140, Accuracy: 0.6077\n",
      "Batch 96/139, Loss: 1.5657, Accuracy: 0.5608\n",
      "Batch 128/139, Loss: 1.7329, Accuracy: 0.5409\n",
      "Test Loss: 1.4799, Accuracy: 0.5790\n",
      "Epoch 49/50\n",
      "-------------------------------\n",
      "Batch 32/139, Loss: 1.5683, Accuracy: 0.5651\n",
      "Batch 64/139, Loss: 1.5659, Accuracy: 0.5625\n",
      "Batch 96/139, Loss: 1.5429, Accuracy: 0.5639\n",
      "Batch 128/139, Loss: 1.5685, Accuracy: 0.5536\n",
      "Test Loss: 1.7166, Accuracy: 0.5468\n",
      "Epoch 50/50\n",
      "-------------------------------\n",
      "Batch 32/139, Loss: 1.6622, Accuracy: 0.5339\n",
      "Batch 64/139, Loss: 1.4856, Accuracy: 0.5984\n",
      "Batch 96/139, Loss: 1.5646, Accuracy: 0.5754\n",
      "Batch 128/139, Loss: 1.6725, Accuracy: 0.5446\n",
      "Test Loss: 1.4647, Accuracy: 0.5985\n"
     ]
    },
    {
     "data": {
      "image/png": "[encoded data removed]",
      "text/plain": [
       "<Figure size 1500x1500 with 2 Axes>"
      ]
     },
     "metadata": {
      "image/png": {
       "height": 1220,
       "width": 1214
      }
     },
     "output_type": "display_data"
    }
   ],
   "source": [
    "trainer.train()"
   ]
  },
  {
   "cell_type": "code",
   "execution_count": 15,
   "id": "3ead6438",
   "metadata": {
    "execution": {
     "iopub.execute_input": "2023-10-22T09:44:41.182853Z",
     "iopub.status.busy": "2023-10-22T09:44:41.182485Z",
     "iopub.status.idle": "2023-10-22T09:44:41.193176Z",
     "shell.execute_reply": "2023-10-22T09:44:41.192305Z"
    },
    "papermill": {
     "duration": 0.04648,
     "end_time": "2023-10-22T09:44:41.195174",
     "exception": false,
     "start_time": "2023-10-22T09:44:41.148694",
     "status": "completed"
    },
    "tags": []
   },
   "outputs": [],
   "source": [
    "torch.save(model.state_dict(), \"../Models/RecurrentNet.pt\")"
   ]
  },
  {
   "cell_type": "markdown",
   "id": "0a552514",
   "metadata": {
    "papermill": {
     "duration": 0.032084,
     "end_time": "2023-10-22T09:44:41.259926",
     "exception": false,
     "start_time": "2023-10-22T09:44:41.227842",
     "status": "completed"
    },
    "tags": []
   },
   "source": [
    "## Inference"
   ]
  },
  {
   "cell_type": "code",
   "execution_count": 16,
   "metadata": {},
   "outputs": [],
   "source": [
    "from src import seq_interpreter\n",
    "\n",
    "interpreter = seq_interpreter.Main(parser)"
   ]
  },
  {
   "cell_type": "code",
   "execution_count": 17,
   "id": "628832db",
   "metadata": {
    "execution": {
     "iopub.execute_input": "2023-10-22T09:44:59.623391Z",
     "iopub.status.busy": "2023-10-22T09:44:59.623082Z",
     "iopub.status.idle": "2023-10-22T09:44:59.631502Z",
     "shell.execute_reply": "2023-10-22T09:44:59.630812Z"
    },
    "papermill": {
     "duration": 0.04346,
     "end_time": "2023-10-22T09:44:59.633392",
     "exception": false,
     "start_time": "2023-10-22T09:44:59.589932",
     "status": "completed"
    },
    "tags": []
   },
   "outputs": [],
   "source": [
    "def generate_sequence(temperature, max_length):\n",
    "    model.eval()\n",
    "    with torch.inference_mode():\n",
    "        x = torch.zeros((1, max_length + 2), dtype=torch.long, device=device)\n",
    "        # The start of sequence token\n",
    "        x[:, 0] = VOCAB_SIZE - 2\n",
    "        \n",
    "        for i in range(max_length):\n",
    "            y_pred = model(x[:, : i + 1])\n",
    "            y_pred = y_pred[:, i]\n",
    "            # Zero out the probability for the same as the previous chord\n",
    "            y_pred[:, x[:, i]] = -torch.inf\n",
    "            # Sample from the distribution\n",
    "            y_pred = F.softmax(y_pred, dim=1) ** (1 / temperature)\n",
    "            x[:, i + 1] = y_pred.multinomial(1).item()\n",
    "            if x[:, i + 1] == VOCAB_SIZE - 1:\n",
    "                break\n",
    "        if VOCAB_SIZE - 1 not in x:\n",
    "            x[:, -1] = VOCAB_SIZE - 1\n",
    "    return x[0, 1:]"
   ]
  },
  {
   "cell_type": "code",
   "execution_count": 18,
   "id": "0743b325",
   "metadata": {
    "execution": {
     "iopub.execute_input": "2023-10-22T09:44:59.843304Z",
     "iopub.status.busy": "2023-10-22T09:44:59.843007Z",
     "iopub.status.idle": "2023-10-22T09:45:00.057549Z",
     "shell.execute_reply": "2023-10-22T09:45:00.056569Z"
    },
    "papermill": {
     "duration": 0.249874,
     "end_time": "2023-10-22T09:45:00.059658",
     "exception": false,
     "start_time": "2023-10-22T09:44:59.809784",
     "status": "completed"
    },
    "tags": []
   },
   "outputs": [
    {
     "name": "stdout",
     "output_type": "stream",
     "text": [
      "D# | F | C#m | A | C#m | G# | C#m | F# | C#m | G# | C#m | F# | C#m | G# | B | A | G# | C#m | A | G# | C#m | F# | C#m | G# | G#m | F# | C#m | G#m | G# | A | C#m | G#m | A | G# | C#m | D#m | F# | G# | C#m | G# | D# | G# | D# | G# | C#m | D# | G# | D# | B | A | G# | D# | F# | G# | C#m | G# | A | G# | D# | G# | C#m | G# | B | D# | G# | F# | D | E\n"
     ]
    },
    {
     "data": {
      "text/html": [
       "\n",
       "                <div id=\"midiPlayerDiv348\"></div>\n",
       "                <link rel=\"stylesheet\" href=\"https://cuthbertLab.github.io/music21j/css/m21.css\">\n",
       "                \n",
       "                <script>\n",
       "                require.config({\n",
       "                    paths: {\n",
       "                        'music21': 'https://cuthbertLab.github.io/music21j/releases/music21.debug',\n",
       "                    }\n",
       "                });\n",
       "                require(['music21'], function(music21) {\n",
       "                    mp = new music21.miditools.MidiPlayer();\n",
       "                    mp.addPlayer(\"#midiPlayerDiv348\");\n",
       "                    mp.base64Load(\"data:audio/midi;base64,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\");\n",
       "                });\n",
       "                </script>"
      ],
      "text/plain": [
       "<IPython.core.display.HTML object>"
      ]
     },
     "metadata": {},
     "output_type": "display_data"
    }
   ],
   "source": [
    "seq = generate_sequence(1.0, 254)\n",
    "print(interpreter.token_seq_to_chords(seq))\n",
    "interpreter.play_seq(seq)"
   ]
  }
 ],
 "metadata": {
  "kernelspec": {
   "display_name": "Python 3",
   "language": "python",
   "name": "python3"
  },
  "language_info": {
   "codemirror_mode": {
    "name": "ipython",
    "version": 3
   },
   "file_extension": ".py",
   "mimetype": "text/x-python",
   "name": "python",
   "nbconvert_exporter": "python",
   "pygments_lexer": "ipython3",
   "version": "3.9.16"
  },
  "papermill": {
   "default_parameters": {},
   "duration": 485.734986,
   "end_time": "2023-10-22T09:45:03.637558",
   "environment_variables": {},
   "exception": null,
   "input_path": "__notebook__.ipynb",
   "output_path": "__notebook__.ipynb",
   "parameters": {},
   "start_time": "2023-10-22T09:36:57.902572",
   "version": "2.4.0"
  }
 },
 "nbformat": 4,
 "nbformat_minor": 5
}
