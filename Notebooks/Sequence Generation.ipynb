{
 "cells": [
  {
   "cell_type": "markdown",
   "metadata": {},
   "source": [
    "# Sequence Generation across Different Models"
   ]
  },
  {
   "cell_type": "code",
   "execution_count": 1,
   "metadata": {},
   "outputs": [],
   "source": [
    "import json\n",
    "import pandas as pd\n",
    "from src.models import *"
   ]
  },
  {
   "cell_type": "code",
   "execution_count": 2,
   "metadata": {},
   "outputs": [],
   "source": [
    "with open(\"../Data/token_to_chord.json\"):\n",
    "    token_to_chord = json.load(open(\"../Data/token_to_chord.json\"))"
   ]
  },
  {
   "cell_type": "code",
   "execution_count": 3,
   "metadata": {},
   "outputs": [],
   "source": [
    "# The total number of sequences is the same as the size of the test sets\n",
    "def generate_sequence_df(network, total_sequences=4448, batch_size=128):\n",
    "    all_sequences = []\n",
    "    for i in range(0, total_sequences, batch_size):\n",
    "        size = min(batch_size, total_sequences - i) # Determine the current batch size\n",
    "        sequences = network.generate_sequences(1.0, 254, size)\n",
    "        all_sequences.extend(sequences)\n",
    "\n",
    "    # Remove padding and convert to numpy\n",
    "    all_sequences = [seq[1 : seq.argmax(-1)].cpu().numpy() for seq in all_sequences]\n",
    "\n",
    "    return pd.DataFrame({\"chords\": all_sequences})"
   ]
  },
  {
   "cell_type": "code",
   "execution_count": 4,
   "metadata": {},
   "outputs": [],
   "source": [
    "def save_df(df, file_name):\n",
    "    df[\"chords\"] = df[\"chords\"].apply(lambda x: json.dumps(x.tolist()))\n",
    "    df.to_csv(f\"../Data/Generated/{file_name}.csv\", index=False)"
   ]
  },
  {
   "cell_type": "code",
   "execution_count": 5,
   "metadata": {},
   "outputs": [
    {
     "name": "stderr",
     "output_type": "stream",
     "text": [
      "d:\\Programs\\anaconda3\\lib\\site-packages\\torch\\nn\\modules\\activation.py:1144: UserWarning: Converting mask without torch.bool dtype to bool; this will negatively affect performance. Prefer to use a boolean mask directly. (Triggered internally at C:\\cb\\pytorch_1000000000000\\work\\aten\\src\\ATen\\native\\transformers\\attention.cpp:152.)\n",
      "  return torch._native_multi_head_attention(\n"
     ]
    }
   ],
   "source": [
    "# Initialize all models\n",
    "recurrent_net = recurrent_network.Main()\n",
    "\n",
    "# Initialize models with variants\n",
    "variants = [\"small\", \"medium\", \"large\"]\n",
    "transformer_nets = [transformer.Main(variant) for variant in variants]\n",
    "conditional_nets = [conditional_transformer.Main(variant) for variant in variants]\n",
    "style_nets = [style_transformer.Main(variant) for variant in variants]\n",
    "\n",
    "# Generate and save sequences for each model\n",
    "models = [recurrent_net] + transformer_nets + conditional_nets + style_nets\n",
    "model_names = [\"recurrent_net\"] + [f\"transformer_{v}\" for v in variants] + [f\"conditional_{v}\" for v in variants] + [f\"style_{v}\" for v in variants]\n",
    "\n",
    "for model, name in zip(models, model_names):\n",
    "    df = generate_sequence_df(model)\n",
    "    save_df(df, name)"
   ]
  }
 ],
 "metadata": {
  "kernelspec": {
   "display_name": "base",
   "language": "python",
   "name": "python3"
  },
  "language_info": {
   "codemirror_mode": {
    "name": "ipython",
    "version": 3
   },
   "file_extension": ".py",
   "mimetype": "text/x-python",
   "name": "python",
   "nbconvert_exporter": "python",
   "pygments_lexer": "ipython3",
   "version": "3.9.16"
  }
 },
 "nbformat": 4,
 "nbformat_minor": 2
}
